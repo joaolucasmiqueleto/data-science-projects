{
 "cells": [
  {
   "cell_type": "markdown",
   "metadata": {},
   "source": [
    "# Uber Fares Dataset - Feature Engineering and Data Scaling \n",
    "In this third notebook, we have two aims:\n",
    "1) Feature Engineering to deal with datetime and latitude/longitude features;\n",
    "2) Scaling some features to facilitate the predictions in the future."
   ]
  },
  {
   "cell_type": "markdown",
   "metadata": {},
   "source": [
    "## Imports "
   ]
  },
  {
   "cell_type": "code",
   "execution_count": 1,
   "metadata": {},
   "outputs": [],
   "source": [
    "# basic libraries\n",
    "import pandas as pd \n",
    "import numpy as np\n",
    "import matplotlib.pyplot as plt \n",
    "from math import radians\n",
    "\n",
    "# modeling libraries \n",
    "from sklearn.metrics.pairwise import haversine_distances\n",
    "from sklearn.model_selection import train_test_split\n",
    "from sklearn.preprocessing import MinMaxScaler"
   ]
  },
  {
   "cell_type": "markdown",
   "metadata": {},
   "source": [
    "## Loading the data "
   ]
  },
  {
   "cell_type": "code",
   "execution_count": 2,
   "metadata": {},
   "outputs": [],
   "source": [
    "root_path = '../../uber-fares-prediction/data/processed/'\n",
    "\n",
    "# train set \n",
    "X_train_uber = (\n",
    "    pd.read_csv(\n",
    "        root_path + 'uber_train_set.csv'\n",
    "    )\n",
    ")\n",
    "\n",
    "# validation set \n",
    "X_test_uber = (\n",
    "    pd.read_csv(\n",
    "        root_path + 'uber_validation_set.csv'\n",
    "    )\n",
    ")"
   ]
  },
  {
   "cell_type": "markdown",
   "metadata": {},
   "source": [
    "## Feature Engineering"
   ]
  },
  {
   "cell_type": "markdown",
   "metadata": {},
   "source": [
    "The feature engineering process for this dataset is very interesting. First we will dealing with datetime variables. Next, we will dealing with latitude and longitude features. "
   ]
  },
  {
   "cell_type": "markdown",
   "metadata": {},
   "source": [
    "## Date Features"
   ]
  },
  {
   "cell_type": "markdown",
   "metadata": {},
   "source": [
    "Let us first deal with `pickup_datetime` column splitting into a `date` and a `time` column. It is important to keep in mind that machine learning models do not know how to work with datetime variables. A good way to deal with these variables is to use its information - day, month and year - and use this values as integers values."
   ]
  },
  {
   "cell_type": "code",
   "execution_count": 3,
   "metadata": {},
   "outputs": [],
   "source": [
    "# changing pickup_datetime to a datetime variable\n",
    "\n",
    "# train set \n",
    "X_train_uber.pickup_datetime = (\n",
    "    pd.to_datetime(X_train_uber.pickup_datetime)\n",
    ")\n",
    "\n",
    "# validation set \n",
    "X_test_uber.pickup_datetime = (\n",
    "    pd.to_datetime(X_test_uber.pickup_datetime)\n",
    ")"
   ]
  },
  {
   "cell_type": "markdown",
   "metadata": {},
   "source": [
    "We will create four features. The first one is `pickup_day`, which represents the day present on `pickup_datetime`. The second feature is `pickup_month`, which represents the month present on `pickup_datetime`. The third feature is `pickup_year`, which represents the year present on `pickup_datetime`. Lastly, the fourth feature is regarding to the hour of the ride, which also is an information present on `pickup_datetime`."
   ]
  },
  {
   "cell_type": "code",
   "execution_count": 4,
   "metadata": {},
   "outputs": [],
   "source": [
    "# creating four features: pickup_year, pickup_month, pickup_day and pickup_hour\n",
    "\n",
    "# train set \n",
    "X_train_uber = (\n",
    "    X_train_uber\n",
    "    .assign(\n",
    "        pickup_day = X_train_uber.pickup_datetime.dt.day,\n",
    "        pickup_month = X_train_uber.pickup_datetime.dt.month,\n",
    "        pickup_year = X_train_uber.pickup_datetime.dt.year,\n",
    "        pickup_hour = X_train_uber.pickup_datetime.dt.hour\n",
    "    )\n",
    ")\n",
    "\n",
    "# validation set \n",
    "X_test_uber = (\n",
    "    X_test_uber\n",
    "    .assign(\n",
    "        pickup_day = X_train_uber.pickup_datetime.dt.day,\n",
    "        pickup_month = X_train_uber.pickup_datetime.dt.month,\n",
    "        pickup_year = X_train_uber.pickup_datetime.dt.year,\n",
    "        pickup_hour = X_train_uber.pickup_datetime.dt.hour\n",
    "    )\n",
    ")"
   ]
  },
  {
   "cell_type": "code",
   "execution_count": 5,
   "metadata": {},
   "outputs": [],
   "source": [
    "# dropping pickup_datetime variable \n",
    "\n",
    "X_train_uber = (\n",
    "    X_train_uber\n",
    "    .drop(\n",
    "        columns=['pickup_datetime']\n",
    "    )\n",
    ")\n",
    "\n",
    "X_test_uber = (\n",
    "    X_test_uber\n",
    "    .drop(\n",
    "        columns=['pickup_datetime']\n",
    "    )\n",
    ")"
   ]
  },
  {
   "cell_type": "markdown",
   "metadata": {},
   "source": [
    "Let us see if there are hours in which we have a higher number of rides:"
   ]
  },
  {
   "cell_type": "code",
   "execution_count": 6,
   "metadata": {},
   "outputs": [
    {
     "data": {
      "text/plain": [
       "Text(0, 0.5, 'Amount of Rides')"
      ]
     },
     "execution_count": 6,
     "metadata": {},
     "output_type": "execute_result"
    },
    {
     "data": {
      "image/png": "[encoded data removed]",
      "text/plain": [
       "<Figure size 640x480 with 1 Axes>"
      ]
     },
     "metadata": {},
     "output_type": "display_data"
    }
   ],
   "source": [
    "# histogram - hours of the rides \n",
    "plt.hist(\n",
    "    X_train_uber['pickup_hour'], \n",
    "    color = 'darkgreen', \n",
    "    edgecolor = 'black',\n",
    "    bins = 24\n",
    ")\n",
    "plt.xlim(0,23)\n",
    "tick_interval = 1\n",
    "plt.xticks(range(0, 24, tick_interval))\n",
    "plt.title('Histogram of Hours of the Rides')\n",
    "plt.xlabel('Day Hour')\n",
    "plt.ylabel('Amount of Rides')"
   ]
  },
  {
   "cell_type": "markdown",
   "metadata": {},
   "source": [
    "As expected, the rush time (18-19hrs) contains more rides in comparison to the other hours. We also can see the quantity of rides by year and by month of the year:"
   ]
  },
  {
   "cell_type": "code",
   "execution_count": 7,
   "metadata": {},
   "outputs": [
    {
     "data": {
      "text/plain": [
       "Text(0.5, 1.0, 'Count Plot of Rides by Year')"
      ]
     },
     "execution_count": 7,
     "metadata": {},
     "output_type": "execute_result"
    },
    {
     "data": {
      "image/png": "[encoded data removed]",
      "text/plain": [
       "<Figure size 500x300 with 1 Axes>"
      ]
     },
     "metadata": {},
     "output_type": "display_data"
    }
   ],
   "source": [
    "# amount of rides by year \n",
    "plt.figure(figsize=(5,3))\n",
    "X_train_uber.pickup_year.value_counts().sort_index().plot(kind='bar')\n",
    "plt.xlabel(\"Years\")\n",
    "plt.ylabel(\"Amount of Rides\")\n",
    "plt.title(\"Count Plot of Rides by Year\")"
   ]
  },
  {
   "cell_type": "code",
   "execution_count": 8,
   "metadata": {},
   "outputs": [
    {
     "data": {
      "text/plain": [
       "Text(0.5, 1.0, 'Count Plot of Rides by Month')"
      ]
     },
     "execution_count": 8,
     "metadata": {},
     "output_type": "execute_result"
    },
    {
     "data": {
      "image/png": "[encoded data removed]",
      "text/plain": [
       "<Figure size 500x300 with 1 Axes>"
      ]
     },
     "metadata": {},
     "output_type": "display_data"
    }
   ],
   "source": [
    "# amount of rides by month \n",
    "plt.figure(figsize=(5,3))\n",
    "X_train_uber.pickup_month.value_counts().sort_index().plot(kind='bar')\n",
    "plt.xlabel(\"Months\")\n",
    "plt.ylabel(\"Amount of Rides\")\n",
    "plt.title(\"Count Plot of Rides by Month\")"
   ]
  },
  {
   "cell_type": "markdown",
   "metadata": {},
   "source": [
    "The distribution of rides by year is almost uniform except by $2015$ when we do not have data posterior to June. The distribution of rides by month shows a major presence of rides in the first semester of the year."
   ]
  },
  {
   "cell_type": "markdown",
   "metadata": {},
   "source": [
    "## Latitude and Longitude Features - Haversine Distance "
   ]
  },
  {
   "cell_type": "markdown",
   "metadata": {},
   "source": [
    "Our goal now is to create a distance (in km) feature based on latitude and longitude ones. To do that, we will use Haversine Distance, which is the angular distance between two points on the surface of a sphere. First we need to transform the latitude and longitude coordinates into radians. "
   ]
  },
  {
   "cell_type": "markdown",
   "metadata": {},
   "source": [
    "### Calculating distance (in km) from latitude and longitude features"
   ]
  },
  {
   "cell_type": "markdown",
   "metadata": {},
   "source": [
    "The first step is to transform latitude and longitude features from degrees to radians:"
   ]
  },
  {
   "cell_type": "code",
   "execution_count": 9,
   "metadata": {},
   "outputs": [],
   "source": [
    "# transforming latitude and longitude features from degrees to radians\n",
    "\n",
    "# train set \n",
    "X_train_uber = (\n",
    "    X_train_uber\n",
    "    .assign(\n",
    "        pickup_latitude = lambda df_: df_[\"pickup_latitude\"].apply(lambda x: radians(x)),\n",
    "        pickup_longitude = lambda df_: df_[\"pickup_longitude\"].apply(lambda x: radians(x)),\n",
    "        dropoff_latitude = lambda df_: df_[\"dropoff_latitude\"].apply(lambda x: radians(x)),\n",
    "        dropoff_longitude = lambda df_: df_[\"dropoff_longitude\"].apply(lambda x: radians(x))\n",
    "    )\n",
    ")\n",
    "\n",
    "# validation set \n",
    "X_test_uber = (\n",
    "    X_test_uber\n",
    "    .assign(\n",
    "        pickup_latitude = lambda df_: df_[\"pickup_latitude\"].apply(lambda x: radians(x)),\n",
    "        pickup_longitude = lambda df_: df_[\"pickup_longitude\"].apply(lambda x: radians(x)),\n",
    "        dropoff_latitude = lambda df_: df_[\"dropoff_latitude\"].apply(lambda x: radians(x)),\n",
    "        dropoff_longitude = lambda df_: df_[\"dropoff_longitude\"].apply(lambda x: radians(x))\n",
    "    )\n",
    ")"
   ]
  },
  {
   "cell_type": "markdown",
   "metadata": {},
   "source": [
    "To create the distance (in km) from latitude and longitude features, we will make use of `haversine_distances` from Scikit-learn. To use this function, it is necessary to pass a list of lists, where the first list is the first point coordinates (latitude/longitude, in radians) and the second list consists the coordinates of the second point (latitude/longitude, in radians). In our case, these coordinates are `pickup_longitude` and `pickup_latitude` for the first point, and `dropoff_longitude` and `dropoff_latitude` for the second point. "
   ]
  },
  {
   "cell_type": "code",
   "execution_count": 10,
   "metadata": {},
   "outputs": [],
   "source": [
    "# joining latitude and longitude for pickup and dropoff coordinates\n",
    "\n",
    "# train set \n",
    "pickup_coordinates_X_train = [\n",
    "    coordinates for coordinates in zip(X_train_uber[\"pickup_latitude\"], X_train_uber[\"pickup_longitude\"])\n",
    "]\n",
    "dropoff_coordinates_X_train = [\n",
    "    coordinates for coordinates in zip(X_train_uber[\"dropoff_latitude\"], X_train_uber[\"dropoff_longitude\"])\n",
    "]\n",
    "\n",
    "# validation set \n",
    "pickup_coordinates_X_test = [\n",
    "    coordinates for coordinates in zip(X_test_uber[\"pickup_latitude\"], X_test_uber[\"pickup_longitude\"])\n",
    "]\n",
    "dropoff_coordinates_X_test = [\n",
    "    coordinates for coordinates in zip(X_test_uber[\"dropoff_latitude\"], X_test_uber[\"dropoff_longitude\"])\n",
    "]"
   ]
  },
  {
   "cell_type": "code",
   "execution_count": 11,
   "metadata": {},
   "outputs": [],
   "source": [
    "# creating a list of lists to be used on haversine_distances \n",
    "\n",
    "# train set \n",
    "pickup_coordinates_list_X_train = pd.DataFrame(pickup_coordinates_X_train).values.tolist()\n",
    "dropoff_coordinates_list_X_train = pd.DataFrame(dropoff_coordinates_X_train).values.tolist()\n",
    "\n",
    "# validation set \n",
    "pickup_coordinates_list_X_test = pd.DataFrame(pickup_coordinates_X_test).values.tolist()\n",
    "dropoff_coordinates_list_X_test = pd.DataFrame(dropoff_coordinates_X_test).values.tolist()"
   ]
  },
  {
   "cell_type": "markdown",
   "metadata": {},
   "source": [
    "Now we can obtain the haversine distances list and include this list as a column in our dataframe:"
   ]
  },
  {
   "cell_type": "code",
   "execution_count": 12,
   "metadata": {},
   "outputs": [],
   "source": [
    "# haversine distances list in kilometers\n",
    "\n",
    "# train set \n",
    "haversine_distances_list_X_train = []\n",
    "for coord_pickup, coord_dropoff in zip(pickup_coordinates_list_X_train, dropoff_coordinates_list_X_train):\n",
    "    haversine_distances_list_X_train.append((haversine_distances([coord_pickup, coord_dropoff])[0][1]) * 6371) # multiply by Earth radius to get kilometers \n",
    "\n",
    "# validation set \n",
    "haversine_distances_list_X_test = []\n",
    "for coord_pickup, coord_dropoff in zip(pickup_coordinates_list_X_test, dropoff_coordinates_list_X_test):\n",
    "    haversine_distances_list_X_test.append((haversine_distances([coord_pickup, coord_dropoff])[0][1]) * 6371) # multiply by Earth radius to get kilometers"
   ]
  },
  {
   "cell_type": "code",
   "execution_count": 13,
   "metadata": {},
   "outputs": [],
   "source": [
    "# creating distance_km feature in X_train and X_test \n",
    "\n",
    "# train set \n",
    "X_train_uber = (\n",
    "    X_train_uber\n",
    "    .assign(\n",
    "        distance_km = lambda df_: haversine_distances_list_X_train\n",
    "    )\n",
    ")\n",
    "\n",
    "# validation set \n",
    "X_test_uber = (\n",
    "    X_test_uber\n",
    "    .assign(\n",
    "        distance_km = lambda df_: haversine_distances_list_X_test\n",
    "    )\n",
    ")"
   ]
  },
  {
   "cell_type": "markdown",
   "metadata": {},
   "source": [
    "Let's see the distribution of `distance_km` feature:"
   ]
  },
  {
   "cell_type": "code",
   "execution_count": 14,
   "metadata": {},
   "outputs": [
    {
     "data": {
      "text/plain": [
       "Text(0, 0.5, 'Amount of Rides')"
      ]
     },
     "execution_count": 14,
     "metadata": {},
     "output_type": "execute_result"
    },
    {
     "data": {
      "image/png": "[encoded data removed]",
      "text/plain": [
       "<Figure size 640x480 with 1 Axes>"
      ]
     },
     "metadata": {},
     "output_type": "display_data"
    }
   ],
   "source": [
    "# distance (in km) distribution\n",
    "plt.hist(\n",
    "    X_train_uber['distance_km'], \n",
    "    color = 'darkgreen', \n",
    "    edgecolor = 'black',\n",
    "    bins = 1000\n",
    ")\n",
    "plt.xlim(0,200)\n",
    "plt.yscale('log')\n",
    "plt.title('Histogram of Distance (in km)')\n",
    "plt.xlabel('Distance (km)')\n",
    "plt.ylabel('Amount of Rides')"
   ]
  },
  {
   "cell_type": "code",
   "execution_count": 15,
   "metadata": {},
   "outputs": [],
   "source": [
    "# saving X_train and X_test after feature engineering\n",
    "X_train_uber.to_csv('../../uber-fares-prediction/data/interim/uber_feature_engineering_train_set.csv', index=False)\n",
    "X_test_uber.to_csv('../../uber-fares-prediction/data/interim/uber_feature_engineering_validation_set.csv', index=False)"
   ]
  },
  {
   "cell_type": "markdown",
   "metadata": {},
   "source": [
    "## Data Scaling "
   ]
  },
  {
   "cell_type": "markdown",
   "metadata": {},
   "source": [
    "The next step is to deal with data scaling. In fact, it is not necessary if we were use only models based on decision trees. However, if we decide to use models based on distances, like KNN and SVM, the scaling is important. Features for latitude and longitude are represented in radians, which have a reasonable range and we will not also modify them. We will apply scaling in `passenger_count`, `distance_km`, `pickup_hour`, `pickup_day`, and `pickup_year` features. "
   ]
  },
  {
   "cell_type": "code",
   "execution_count": 16,
   "metadata": {},
   "outputs": [
    {
     "data": {
      "text/html": [
       "<div>\n",
       "<style scoped>\n",
       "    .dataframe tbody tr th:only-of-type {\n",
       "        vertical-align: middle;\n",
       "    }\n",
       "\n",
       "    .dataframe tbody tr th {\n",
       "        vertical-align: top;\n",
       "    }\n",
       "\n",
       "    .dataframe thead th {\n",
       "        text-align: right;\n",
       "    }\n",
       "</style>\n",
       "<table border=\"1\" class=\"dataframe\">\n",
       "  <thead>\n",
       "    <tr style=\"text-align: right;\">\n",
       "      <th></th>\n",
       "      <th>pickup_longitude</th>\n",
       "      <th>pickup_latitude</th>\n",
       "      <th>dropoff_longitude</th>\n",
       "      <th>dropoff_latitude</th>\n",
       "      <th>passenger_count</th>\n",
       "      <th>pickup_day</th>\n",
       "      <th>pickup_month</th>\n",
       "      <th>pickup_year</th>\n",
       "      <th>pickup_hour</th>\n",
       "      <th>distance_km</th>\n",
       "    </tr>\n",
       "  </thead>\n",
       "  <tbody>\n",
       "    <tr>\n",
       "      <th>0</th>\n",
       "      <td>-1.291046</td>\n",
       "      <td>0.711458</td>\n",
       "      <td>-1.290793</td>\n",
       "      <td>0.711655</td>\n",
       "      <td>1</td>\n",
       "      <td>28</td>\n",
       "      <td>4</td>\n",
       "      <td>2015</td>\n",
       "      <td>15</td>\n",
       "      <td>1.747231</td>\n",
       "    </tr>\n",
       "    <tr>\n",
       "      <th>1</th>\n",
       "      <td>-1.290864</td>\n",
       "      <td>0.711602</td>\n",
       "      <td>-1.291752</td>\n",
       "      <td>0.710376</td>\n",
       "      <td>1</td>\n",
       "      <td>26</td>\n",
       "      <td>3</td>\n",
       "      <td>2012</td>\n",
       "      <td>18</td>\n",
       "      <td>8.907387</td>\n",
       "    </tr>\n",
       "    <tr>\n",
       "      <th>2</th>\n",
       "      <td>-1.290621</td>\n",
       "      <td>0.711601</td>\n",
       "      <td>-1.291044</td>\n",
       "      <td>0.711139</td>\n",
       "      <td>1</td>\n",
       "      <td>11</td>\n",
       "      <td>10</td>\n",
       "      <td>2013</td>\n",
       "      <td>8</td>\n",
       "      <td>3.583120</td>\n",
       "    </tr>\n",
       "    <tr>\n",
       "      <th>3</th>\n",
       "      <td>-1.291510</td>\n",
       "      <td>0.711240</td>\n",
       "      <td>-1.291464</td>\n",
       "      <td>0.711434</td>\n",
       "      <td>1</td>\n",
       "      <td>20</td>\n",
       "      <td>7</td>\n",
       "      <td>2014</td>\n",
       "      <td>2</td>\n",
       "      <td>1.255360</td>\n",
       "    </tr>\n",
       "    <tr>\n",
       "      <th>4</th>\n",
       "      <td>-1.290913</td>\n",
       "      <td>0.711595</td>\n",
       "      <td>-1.291184</td>\n",
       "      <td>0.711514</td>\n",
       "      <td>2</td>\n",
       "      <td>25</td>\n",
       "      <td>11</td>\n",
       "      <td>2014</td>\n",
       "      <td>8</td>\n",
       "      <td>1.402147</td>\n",
       "    </tr>\n",
       "    <tr>\n",
       "      <th>...</th>\n",
       "      <td>...</td>\n",
       "      <td>...</td>\n",
       "      <td>...</td>\n",
       "      <td>...</td>\n",
       "      <td>...</td>\n",
       "      <td>...</td>\n",
       "      <td>...</td>\n",
       "      <td>...</td>\n",
       "      <td>...</td>\n",
       "      <td>...</td>\n",
       "    </tr>\n",
       "    <tr>\n",
       "      <th>137335</th>\n",
       "      <td>-1.290959</td>\n",
       "      <td>0.711354</td>\n",
       "      <td>-1.290741</td>\n",
       "      <td>0.711509</td>\n",
       "      <td>1</td>\n",
       "      <td>24</td>\n",
       "      <td>4</td>\n",
       "      <td>2015</td>\n",
       "      <td>19</td>\n",
       "      <td>1.441585</td>\n",
       "    </tr>\n",
       "    <tr>\n",
       "      <th>137336</th>\n",
       "      <td>-1.291329</td>\n",
       "      <td>0.710239</td>\n",
       "      <td>-1.291743</td>\n",
       "      <td>0.709437</td>\n",
       "      <td>1</td>\n",
       "      <td>16</td>\n",
       "      <td>11</td>\n",
       "      <td>2013</td>\n",
       "      <td>1</td>\n",
       "      <td>5.488365</td>\n",
       "    </tr>\n",
       "    <tr>\n",
       "      <th>137337</th>\n",
       "      <td>-1.291118</td>\n",
       "      <td>0.711250</td>\n",
       "      <td>-1.291551</td>\n",
       "      <td>0.710718</td>\n",
       "      <td>5</td>\n",
       "      <td>30</td>\n",
       "      <td>12</td>\n",
       "      <td>2011</td>\n",
       "      <td>19</td>\n",
       "      <td>3.983242</td>\n",
       "    </tr>\n",
       "    <tr>\n",
       "      <th>137338</th>\n",
       "      <td>-1.291260</td>\n",
       "      <td>0.711031</td>\n",
       "      <td>-1.291674</td>\n",
       "      <td>0.710409</td>\n",
       "      <td>1</td>\n",
       "      <td>20</td>\n",
       "      <td>11</td>\n",
       "      <td>2011</td>\n",
       "      <td>3</td>\n",
       "      <td>4.440206</td>\n",
       "    </tr>\n",
       "    <tr>\n",
       "      <th>137339</th>\n",
       "      <td>-1.291029</td>\n",
       "      <td>0.711476</td>\n",
       "      <td>-1.290717</td>\n",
       "      <td>0.711788</td>\n",
       "      <td>4</td>\n",
       "      <td>28</td>\n",
       "      <td>3</td>\n",
       "      <td>2009</td>\n",
       "      <td>13</td>\n",
       "      <td>2.496485</td>\n",
       "    </tr>\n",
       "  </tbody>\n",
       "</table>\n",
       "<p>137340 rows × 10 columns</p>\n",
       "</div>"
      ],
      "text/plain": [
       "        pickup_longitude  pickup_latitude  dropoff_longitude  \\\n",
       "0              -1.291046         0.711458          -1.290793   \n",
       "1              -1.290864         0.711602          -1.291752   \n",
       "2              -1.290621         0.711601          -1.291044   \n",
       "3              -1.291510         0.711240          -1.291464   \n",
       "4              -1.290913         0.711595          -1.291184   \n",
       "...                  ...              ...                ...   \n",
       "137335         -1.290959         0.711354          -1.290741   \n",
       "137336         -1.291329         0.710239          -1.291743   \n",
       "137337         -1.291118         0.711250          -1.291551   \n",
       "137338         -1.291260         0.711031          -1.291674   \n",
       "137339         -1.291029         0.711476          -1.290717   \n",
       "\n",
       "        dropoff_latitude  passenger_count  pickup_day  pickup_month  \\\n",
       "0               0.711655                1          28             4   \n",
       "1               0.710376                1          26             3   \n",
       "2               0.711139                1          11            10   \n",
       "3               0.711434                1          20             7   \n",
       "4               0.711514                2          25            11   \n",
       "...                  ...              ...         ...           ...   \n",
       "137335          0.711509                1          24             4   \n",
       "137336          0.709437                1          16            11   \n",
       "137337          0.710718                5          30            12   \n",
       "137338          0.710409                1          20            11   \n",
       "137339          0.711788                4          28             3   \n",
       "\n",
       "        pickup_year  pickup_hour  distance_km  \n",
       "0              2015           15     1.747231  \n",
       "1              2012           18     8.907387  \n",
       "2              2013            8     3.583120  \n",
       "3              2014            2     1.255360  \n",
       "4              2014            8     1.402147  \n",
       "...             ...          ...          ...  \n",
       "137335         2015           19     1.441585  \n",
       "137336         2013            1     5.488365  \n",
       "137337         2011           19     3.983242  \n",
       "137338         2011            3     4.440206  \n",
       "137339         2009           13     2.496485  \n",
       "\n",
       "[137340 rows x 10 columns]"
      ]
     },
     "execution_count": 16,
     "metadata": {},
     "output_type": "execute_result"
    }
   ],
   "source": [
    "X_train_uber"
   ]
  },
  {
   "cell_type": "code",
   "execution_count": 17,
   "metadata": {},
   "outputs": [],
   "source": [
    "# list of featutes to be scaled \n",
    "features_to_scale = [\n",
    "    'passenger_count',\n",
    "    'pickup_day',\n",
    "    'pickup_month',\n",
    "    'pickup_year',\n",
    "    'pickup_hour',\n",
    "    'distance_km'\n",
    "]"
   ]
  },
  {
   "cell_type": "code",
   "execution_count": 18,
   "metadata": {},
   "outputs": [],
   "source": [
    "# instancing a minmaxscaler object \n",
    "scaler = MinMaxScaler()"
   ]
  },
  {
   "cell_type": "code",
   "execution_count": 19,
   "metadata": {},
   "outputs": [],
   "source": [
    "# scaling our data \n",
    "X_train_uber[features_to_scale] = (\n",
    "    scaler.fit_transform(\n",
    "        X_train_uber[features_to_scale]\n",
    "    )\n",
    ")\n",
    "\n",
    "X_test_uber[features_to_scale] = (\n",
    "    scaler.fit_transform(\n",
    "        X_test_uber[features_to_scale]\n",
    "    )\n",
    ")"
   ]
  },
  {
   "cell_type": "code",
   "execution_count": 20,
   "metadata": {},
   "outputs": [],
   "source": [
    "# saving the data \n",
    "X_train_uber.to_csv('../../uber-fares-prediction/data/processed/uber_prepared_train_set.csv', index=False)\n",
    "X_test_uber.to_csv('../../uber-fares-prediction/data/processed/uber_prepared_validation_set.csv', index=False)"
   ]
  }
 ],
 "metadata": {
  "kernelspec": {
   "display_name": "machine-learning-projects",
   "language": "python",
   "name": "python3"
  },
  "language_info": {
   "codemirror_mode": {
    "name": "ipython",
    "version": 3
   },
   "file_extension": ".py",
   "mimetype": "text/x-python",
   "name": "python",
   "nbconvert_exporter": "python",
   "pygments_lexer": "ipython3",
   "version": "3.11.5"
  }
 },
 "nbformat": 4,
 "nbformat_minor": 2
}
