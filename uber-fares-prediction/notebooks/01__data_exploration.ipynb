{
 "cells": [
  {
   "cell_type": "markdown",
   "metadata": {},
   "source": [
    "# Uber Fares Dataset - Initial Exploration \n",
    "\n",
    "## Description\n",
    "\n",
    "The project is about on world's largest taxi company Uber inc. In this project, we're looking to predict the fare for their future transactional cases. Uber delivers service to lakhs of customers daily. Now it becomes really important to manage their data properly to come up with new business ideas to get best results. Eventually, it becomes really important to estimate the fare prices accurately.\n",
    "\n",
    "https://www.kaggle.com/datasets/yasserh/uber-fares-dataset/\n",
    "\n",
    "## Goals of the Project\n",
    "\n",
    "- Understand the Dataset & cleanup.\n",
    "- Build Regression models to predict the fare price of uber ride.\n",
    "- Also evaluate the models & compare thier respective scores like R2, RMSE, etc.\n"
   ]
  },
  {
   "cell_type": "markdown",
   "metadata": {},
   "source": [
    "## Objective"
   ]
  },
  {
   "cell_type": "markdown",
   "metadata": {},
   "source": [
    "In this first notebook, we aim to understand the dataset and gain some insights about it. For that, we will verify the presence of missing data, the presence of outliers, and some feature distributions."
   ]
  },
  {
   "cell_type": "markdown",
   "metadata": {},
   "source": [
    "## Imports "
   ]
  },
  {
   "cell_type": "code",
   "execution_count": 29,
   "metadata": {},
   "outputs": [],
   "source": [
    "# basic libraries \n",
    "import pandas as pd \n",
    "import numpy as np \n",
    "import matplotlib.pyplot as plt \n",
    "import seaborn as sns  \n",
    "\n",
    "from pandas.plotting import scatter_matrix"
   ]
  },
  {
   "cell_type": "markdown",
   "metadata": {},
   "source": [
    "## Loading Data "
   ]
  },
  {
   "cell_type": "code",
   "execution_count": 2,
   "metadata": {},
   "outputs": [],
   "source": [
    "# loading raw data \n",
    "path_data = '../data/raw/'\n",
    "uber_df = (\n",
    "    pd.read_csv(path_data + 'uber.csv', index_col=[0])\n",
    "    .reset_index(drop=True)\n",
    ")"
   ]
  },
  {
   "cell_type": "markdown",
   "metadata": {},
   "source": [
    "## Analyzing Data"
   ]
  },
  {
   "cell_type": "markdown",
   "metadata": {},
   "source": [
    "This dataset contains the following columns:\n",
    "\n",
    "- `key`: a unique identifier for each trip\n",
    "- `fare_amount`: the cost of each trip in usd\n",
    "- `pickup_datetime`: date and time when the meter was engaged\n",
    "- `passenger_count`: the number of passengers in the vehicle (driver entered value)\n",
    "- `pickup_longitude`: the longitude where the meter was engaged\n",
    "- `pickup_latitude`: the latitude where the meter was engaged\n",
    "- `dropoff_longitude`: the longitude where the meter was disengaged\n",
    "- `dropoff_latitude`: the latitude where the meter was disengaged"
   ]
  },
  {
   "cell_type": "code",
   "execution_count": 3,
   "metadata": {},
   "outputs": [
    {
     "name": "stdout",
     "output_type": "stream",
     "text": [
      "<class 'pandas.core.frame.DataFrame'>\n",
      "RangeIndex: 200000 entries, 0 to 199999\n",
      "Data columns (total 8 columns):\n",
      " #   Column             Non-Null Count   Dtype  \n",
      "---  ------             --------------   -----  \n",
      " 0   key                200000 non-null  object \n",
      " 1   fare_amount        200000 non-null  float64\n",
      " 2   pickup_datetime    200000 non-null  object \n",
      " 3   pickup_longitude   200000 non-null  float64\n",
      " 4   pickup_latitude    200000 non-null  float64\n",
      " 5   dropoff_longitude  199999 non-null  float64\n",
      " 6   dropoff_latitude   199999 non-null  float64\n",
      " 7   passenger_count    200000 non-null  int64  \n",
      "dtypes: float64(5), int64(1), object(2)\n",
      "memory usage: 12.2+ MB\n"
     ]
    }
   ],
   "source": [
    "# getting info about data \n",
    "uber_df.info()"
   ]
  },
  {
   "cell_type": "markdown",
   "metadata": {},
   "source": [
    "The `fare_amount` feature will be our target. These are the values we want to predict. Features regarding latitude and longitude are interesting and possibly we need to build new features using them to calculate physical distance for the trip - as we know, the distance is the most important variable associated to fares."
   ]
  },
  {
   "cell_type": "markdown",
   "metadata": {},
   "source": [
    "Let us see if there are null values on this dataset:"
   ]
  },
  {
   "cell_type": "code",
   "execution_count": 4,
   "metadata": {},
   "outputs": [
    {
     "data": {
      "text/plain": [
       "key                  0\n",
       "fare_amount          0\n",
       "pickup_datetime      0\n",
       "pickup_longitude     0\n",
       "pickup_latitude      0\n",
       "dropoff_longitude    1\n",
       "dropoff_latitude     1\n",
       "passenger_count      0\n",
       "dtype: int64"
      ]
     },
     "execution_count": 4,
     "metadata": {},
     "output_type": "execute_result"
    }
   ],
   "source": [
    "uber_df.isna().sum()"
   ]
  },
  {
   "cell_type": "markdown",
   "metadata": {},
   "source": [
    "There are only two null values and they are present on `dropoff_longitude` and `dropoff_latitude` features. Let's look for them:"
   ]
  },
  {
   "cell_type": "code",
   "execution_count": 8,
   "metadata": {},
   "outputs": [
    {
     "data": {
      "text/html": [
       "<div>\n",
       "<style scoped>\n",
       "    .dataframe tbody tr th:only-of-type {\n",
       "        vertical-align: middle;\n",
       "    }\n",
       "\n",
       "    .dataframe tbody tr th {\n",
       "        vertical-align: top;\n",
       "    }\n",
       "\n",
       "    .dataframe thead th {\n",
       "        text-align: right;\n",
       "    }\n",
       "</style>\n",
       "<table border=\"1\" class=\"dataframe\">\n",
       "  <thead>\n",
       "    <tr style=\"text-align: right;\">\n",
       "      <th></th>\n",
       "      <th>key</th>\n",
       "      <th>fare_amount</th>\n",
       "      <th>pickup_datetime</th>\n",
       "      <th>pickup_longitude</th>\n",
       "      <th>pickup_latitude</th>\n",
       "      <th>dropoff_longitude</th>\n",
       "      <th>dropoff_latitude</th>\n",
       "      <th>passenger_count</th>\n",
       "    </tr>\n",
       "  </thead>\n",
       "  <tbody>\n",
       "    <tr>\n",
       "      <th>87946</th>\n",
       "      <td>2013-07-02 03:51:57.0000001</td>\n",
       "      <td>24.1</td>\n",
       "      <td>2013-07-02 03:51:57 UTC</td>\n",
       "      <td>-73.950581</td>\n",
       "      <td>40.779692</td>\n",
       "      <td>NaN</td>\n",
       "      <td>NaN</td>\n",
       "      <td>0</td>\n",
       "    </tr>\n",
       "  </tbody>\n",
       "</table>\n",
       "</div>"
      ],
      "text/plain": [
       "                               key  fare_amount          pickup_datetime  \\\n",
       "87946  2013-07-02 03:51:57.0000001         24.1  2013-07-02 03:51:57 UTC   \n",
       "\n",
       "       pickup_longitude  pickup_latitude  dropoff_longitude  dropoff_latitude  \\\n",
       "87946        -73.950581        40.779692                NaN               NaN   \n",
       "\n",
       "       passenger_count  \n",
       "87946                0  "
      ]
     },
     "execution_count": 8,
     "metadata": {},
     "output_type": "execute_result"
    }
   ],
   "source": [
    "# showing the null values \n",
    "uber_df[uber_df.isna().any(axis=1)]"
   ]
  },
  {
   "cell_type": "markdown",
   "metadata": {},
   "source": [
    "As there is only one example containing null values, possibly we will drop it in the final prepared data. Beyond that, if we want to build a feature regarding ride distance, if the dropoff coordinates features are null we do not have how to know the distance. Let us see the distribution of `fare_amount` feature: "
   ]
  },
  {
   "cell_type": "code",
   "execution_count": 40,
   "metadata": {},
   "outputs": [
    {
     "name": "stderr",
     "output_type": "stream",
     "text": [
      "/Users/joaolucasmiqueleto/anaconda3/envs/machine-learning-projects/lib/python3.11/site-packages/seaborn/_oldcore.py:1498: FutureWarning: is_categorical_dtype is deprecated and will be removed in a future version. Use isinstance(dtype, CategoricalDtype) instead\n",
      "  if pd.api.types.is_categorical_dtype(vector):\n",
      "/Users/joaolucasmiqueleto/anaconda3/envs/machine-learning-projects/lib/python3.11/site-packages/seaborn/_oldcore.py:1119: FutureWarning: use_inf_as_na option is deprecated and will be removed in a future version. Convert inf values to NaN before operating instead.\n",
      "  with pd.option_context('mode.use_inf_as_na', True):\n"
     ]
    },
    {
     "data": {
      "text/plain": [
       "Text(0, 0.5, 'Quantity of Rides')"
      ]
     },
     "execution_count": 40,
     "metadata": {},
     "output_type": "execute_result"
    },
    {
     "data": {
      "image/png": "[encoded data removed]",
      "text/plain": [
       "<Figure size 900x600 with 1 Axes>"
      ]
     },
     "metadata": {},
     "output_type": "display_data"
    }
   ],
   "source": [
    "# histogram of fare_amount feature\n",
    "mean_fare_amount = uber_df['fare_amount'].mean() # fare amount mean \n",
    "median_fare_amount = uber_df['fare_amount'].median() # fare amount median\n",
    "\n",
    "fig, ax= plt.subplots(figsize = (9,6))\n",
    "\n",
    "# plotting the histogram with the mean and median value of fare amount\n",
    "sns.histplot(uber_df['fare_amount'], ax=ax, bins=200, color = 'lightblue', edgecolor='black')\n",
    "ax.axvline(x=mean_fare_amount, color='red', label=f'Fare Amount Mean: $ {np.round(mean_fare_amount, 1)}')\n",
    "ax.axvline(x=median_fare_amount, color='blue', label=f'Fare Amount Median: $ {np.round(median_fare_amount, 1)}')\n",
    "\n",
    "# defining limits\n",
    "ax.set_xlim(-10, 100)\n",
    "tick_interval = 10\n",
    "ax.set_xticks(range(0, 101, tick_interval))\n",
    "\n",
    "# adding labels \n",
    "ax.legend()\n",
    "ax.set_title(\"Histogram of Fare Amount\", fontsize=10)\n",
    "ax.set_xlabel(\"Fare Amount Values (in USD)\")\n",
    "ax.set_ylabel(\"Quantity of Rides\")"
   ]
  },
  {
   "cell_type": "markdown",
   "metadata": {},
   "source": [
    "As we see, the fare values are concentrated between ~$ \\$5$ and ~$ \\$20$. However, it is important to see if there are extremal values for this variable:"
   ]
  },
  {
   "cell_type": "code",
   "execution_count": 41,
   "metadata": {},
   "outputs": [
    {
     "data": {
      "text/plain": [
       "(-52.0, 499.0)"
      ]
     },
     "execution_count": 41,
     "metadata": {},
     "output_type": "execute_result"
    }
   ],
   "source": [
    "# showing the extremal values for fare amount feature \n",
    "uber_df.fare_amount.min(), uber_df.fare_amount.max()"
   ]
  },
  {
   "cell_type": "markdown",
   "metadata": {},
   "source": [
    "Very interesting! We have both a very large fare amount value and negative fare amount value. Let us check these two situations. Checking the `fare_amount` of $\\$ 499,00$:"
   ]
  },
  {
   "cell_type": "code",
   "execution_count": 42,
   "metadata": {},
   "outputs": [
    {
     "data": {
      "text/html": [
       "<div>\n",
       "<style scoped>\n",
       "    .dataframe tbody tr th:only-of-type {\n",
       "        vertical-align: middle;\n",
       "    }\n",
       "\n",
       "    .dataframe tbody tr th {\n",
       "        vertical-align: top;\n",
       "    }\n",
       "\n",
       "    .dataframe thead th {\n",
       "        text-align: right;\n",
       "    }\n",
       "</style>\n",
       "<table border=\"1\" class=\"dataframe\">\n",
       "  <thead>\n",
       "    <tr style=\"text-align: right;\">\n",
       "      <th></th>\n",
       "      <th>key</th>\n",
       "      <th>fare_amount</th>\n",
       "      <th>pickup_datetime</th>\n",
       "      <th>pickup_longitude</th>\n",
       "      <th>pickup_latitude</th>\n",
       "      <th>dropoff_longitude</th>\n",
       "      <th>dropoff_latitude</th>\n",
       "      <th>passenger_count</th>\n",
       "    </tr>\n",
       "  </thead>\n",
       "  <tbody>\n",
       "    <tr>\n",
       "      <th>170081</th>\n",
       "      <td>2011-04-10 04:10:00.00000064</td>\n",
       "      <td>499.0</td>\n",
       "      <td>2011-04-10 04:10:00 UTC</td>\n",
       "      <td>-73.968377</td>\n",
       "      <td>40.764602</td>\n",
       "      <td>-73.968368</td>\n",
       "      <td>40.7646</td>\n",
       "      <td>1</td>\n",
       "    </tr>\n",
       "  </tbody>\n",
       "</table>\n",
       "</div>"
      ],
      "text/plain": [
       "                                 key  fare_amount          pickup_datetime  \\\n",
       "170081  2011-04-10 04:10:00.00000064        499.0  2011-04-10 04:10:00 UTC   \n",
       "\n",
       "        pickup_longitude  pickup_latitude  dropoff_longitude  \\\n",
       "170081        -73.968377        40.764602         -73.968368   \n",
       "\n",
       "        dropoff_latitude  passenger_count  \n",
       "170081           40.7646                1  "
      ]
     },
     "execution_count": 42,
     "metadata": {},
     "output_type": "execute_result"
    }
   ],
   "source": [
    "# extremal positive value of fare amount\n",
    "uber_df[uber_df['fare_amount']==499]"
   ]
  },
  {
   "cell_type": "markdown",
   "metadata": {},
   "source": [
    "Of course this value is an outlier in our data. However, we need to understand if it is a correct value or not. Probably knowing the ride distance we can infer - based on other similar rides - what a reasonable fare amount should be for this ride. Let us look the negative values:"
   ]
  },
  {
   "cell_type": "code",
   "execution_count": 45,
   "metadata": {},
   "outputs": [
    {
     "data": {
      "text/html": [
       "<div>\n",
       "<style scoped>\n",
       "    .dataframe tbody tr th:only-of-type {\n",
       "        vertical-align: middle;\n",
       "    }\n",
       "\n",
       "    .dataframe tbody tr th {\n",
       "        vertical-align: top;\n",
       "    }\n",
       "\n",
       "    .dataframe thead th {\n",
       "        text-align: right;\n",
       "    }\n",
       "</style>\n",
       "<table border=\"1\" class=\"dataframe\">\n",
       "  <thead>\n",
       "    <tr style=\"text-align: right;\">\n",
       "      <th></th>\n",
       "      <th>key</th>\n",
       "      <th>fare_amount</th>\n",
       "      <th>pickup_datetime</th>\n",
       "      <th>pickup_longitude</th>\n",
       "      <th>pickup_latitude</th>\n",
       "      <th>dropoff_longitude</th>\n",
       "      <th>dropoff_latitude</th>\n",
       "      <th>passenger_count</th>\n",
       "    </tr>\n",
       "  </thead>\n",
       "  <tbody>\n",
       "    <tr>\n",
       "      <th>63395</th>\n",
       "      <td>2015-03-03 23:07:41.0000008</td>\n",
       "      <td>-5.00</td>\n",
       "      <td>2015-03-03 23:07:41 UTC</td>\n",
       "      <td>-73.992249</td>\n",
       "      <td>40.748936</td>\n",
       "      <td>-73.988518</td>\n",
       "      <td>40.748180</td>\n",
       "      <td>1</td>\n",
       "    </tr>\n",
       "    <tr>\n",
       "      <th>71246</th>\n",
       "      <td>2010-02-11 21:47:10.0000001</td>\n",
       "      <td>-3.30</td>\n",
       "      <td>2010-02-11 21:47:10 UTC</td>\n",
       "      <td>-73.952725</td>\n",
       "      <td>40.768235</td>\n",
       "      <td>-73.949928</td>\n",
       "      <td>40.772208</td>\n",
       "      <td>2</td>\n",
       "    </tr>\n",
       "    <tr>\n",
       "      <th>79903</th>\n",
       "      <td>2015-05-01 14:43:02.0000004</td>\n",
       "      <td>-3.50</td>\n",
       "      <td>2015-05-01 14:43:02 UTC</td>\n",
       "      <td>-73.982430</td>\n",
       "      <td>40.775024</td>\n",
       "      <td>-73.981750</td>\n",
       "      <td>40.778439</td>\n",
       "      <td>1</td>\n",
       "    </tr>\n",
       "    <tr>\n",
       "      <th>89322</th>\n",
       "      <td>2010-03-09 08:26:10.0000006</td>\n",
       "      <td>-49.57</td>\n",
       "      <td>2010-03-09 08:26:10 UTC</td>\n",
       "      <td>-73.972772</td>\n",
       "      <td>40.785657</td>\n",
       "      <td>-73.972867</td>\n",
       "      <td>40.785500</td>\n",
       "      <td>5</td>\n",
       "    </tr>\n",
       "    <tr>\n",
       "      <th>92063</th>\n",
       "      <td>2010-03-12 08:49:10.0000002</td>\n",
       "      <td>-23.70</td>\n",
       "      <td>2010-03-12 08:49:10 UTC</td>\n",
       "      <td>-73.952740</td>\n",
       "      <td>40.768233</td>\n",
       "      <td>-74.007028</td>\n",
       "      <td>40.707338</td>\n",
       "      <td>3</td>\n",
       "    </tr>\n",
       "    <tr>\n",
       "      <th>98875</th>\n",
       "      <td>2015-03-20 21:31:14.0000007</td>\n",
       "      <td>-52.00</td>\n",
       "      <td>2015-03-20 21:31:14 UTC</td>\n",
       "      <td>-74.000359</td>\n",
       "      <td>40.728729</td>\n",
       "      <td>-74.005699</td>\n",
       "      <td>40.728680</td>\n",
       "      <td>5</td>\n",
       "    </tr>\n",
       "    <tr>\n",
       "      <th>104080</th>\n",
       "      <td>2010-03-09 20:25:10.0000002</td>\n",
       "      <td>-7.30</td>\n",
       "      <td>2010-03-09 20:25:10 UTC</td>\n",
       "      <td>-73.952623</td>\n",
       "      <td>40.766942</td>\n",
       "      <td>-73.953787</td>\n",
       "      <td>40.784882</td>\n",
       "      <td>1</td>\n",
       "    </tr>\n",
       "    <tr>\n",
       "      <th>111589</th>\n",
       "      <td>2015-02-23 19:26:44.0000004</td>\n",
       "      <td>-52.00</td>\n",
       "      <td>2015-02-23 19:26:44 UTC</td>\n",
       "      <td>-73.984665</td>\n",
       "      <td>40.759026</td>\n",
       "      <td>0.000000</td>\n",
       "      <td>0.000000</td>\n",
       "      <td>5</td>\n",
       "    </tr>\n",
       "    <tr>\n",
       "      <th>139272</th>\n",
       "      <td>2010-02-23 18:52:10.0000003</td>\n",
       "      <td>-6.90</td>\n",
       "      <td>2010-02-23 18:52:10 UTC</td>\n",
       "      <td>-73.988727</td>\n",
       "      <td>40.736445</td>\n",
       "      <td>-73.977622</td>\n",
       "      <td>40.750487</td>\n",
       "      <td>1</td>\n",
       "    </tr>\n",
       "    <tr>\n",
       "      <th>148803</th>\n",
       "      <td>2010-02-12 10:50:10.0000005</td>\n",
       "      <td>-5.70</td>\n",
       "      <td>2010-02-12 10:50:10 UTC</td>\n",
       "      <td>-73.977300</td>\n",
       "      <td>40.742783</td>\n",
       "      <td>-73.988837</td>\n",
       "      <td>40.747465</td>\n",
       "      <td>3</td>\n",
       "    </tr>\n",
       "    <tr>\n",
       "      <th>150301</th>\n",
       "      <td>2015-06-18 07:41:12.0000001</td>\n",
       "      <td>-3.00</td>\n",
       "      <td>2015-06-18 07:41:12 UTC</td>\n",
       "      <td>-74.004646</td>\n",
       "      <td>40.707355</td>\n",
       "      <td>-74.004013</td>\n",
       "      <td>40.707699</td>\n",
       "      <td>1</td>\n",
       "    </tr>\n",
       "    <tr>\n",
       "      <th>151681</th>\n",
       "      <td>2010-02-17 05:46:10.0000001</td>\n",
       "      <td>-10.90</td>\n",
       "      <td>2010-02-17 05:46:10 UTC</td>\n",
       "      <td>-73.964257</td>\n",
       "      <td>40.760630</td>\n",
       "      <td>-73.994222</td>\n",
       "      <td>40.761533</td>\n",
       "      <td>1</td>\n",
       "    </tr>\n",
       "    <tr>\n",
       "      <th>157412</th>\n",
       "      <td>2015-05-06 03:47:38.0000001</td>\n",
       "      <td>-3.50</td>\n",
       "      <td>2015-05-06 03:47:38 UTC</td>\n",
       "      <td>-73.986084</td>\n",
       "      <td>40.762146</td>\n",
       "      <td>-73.980476</td>\n",
       "      <td>40.759823</td>\n",
       "      <td>1</td>\n",
       "    </tr>\n",
       "    <tr>\n",
       "      <th>164056</th>\n",
       "      <td>2010-03-16 15:27:10.0000003</td>\n",
       "      <td>-50.50</td>\n",
       "      <td>2010-03-16 15:27:10 UTC</td>\n",
       "      <td>-73.784868</td>\n",
       "      <td>40.648677</td>\n",
       "      <td>-73.976975</td>\n",
       "      <td>40.763522</td>\n",
       "      <td>3</td>\n",
       "    </tr>\n",
       "    <tr>\n",
       "      <th>179111</th>\n",
       "      <td>2015-02-12 22:53:28.0000004</td>\n",
       "      <td>-3.50</td>\n",
       "      <td>2015-02-12 22:53:28 UTC</td>\n",
       "      <td>-73.989059</td>\n",
       "      <td>40.760181</td>\n",
       "      <td>-73.986649</td>\n",
       "      <td>40.761829</td>\n",
       "      <td>1</td>\n",
       "    </tr>\n",
       "    <tr>\n",
       "      <th>180444</th>\n",
       "      <td>2015-05-10 04:26:03.0000005</td>\n",
       "      <td>-3.00</td>\n",
       "      <td>2015-05-10 04:26:03 UTC</td>\n",
       "      <td>-73.983727</td>\n",
       "      <td>40.725910</td>\n",
       "      <td>-73.986099</td>\n",
       "      <td>40.722450</td>\n",
       "      <td>2</td>\n",
       "    </tr>\n",
       "    <tr>\n",
       "      <th>190925</th>\n",
       "      <td>2015-05-01 23:25:34.0000002</td>\n",
       "      <td>-5.50</td>\n",
       "      <td>2015-05-01 23:25:34 UTC</td>\n",
       "      <td>-73.988701</td>\n",
       "      <td>40.742649</td>\n",
       "      <td>-73.985924</td>\n",
       "      <td>40.735001</td>\n",
       "      <td>1</td>\n",
       "    </tr>\n",
       "  </tbody>\n",
       "</table>\n",
       "</div>"
      ],
      "text/plain": [
       "                                key  fare_amount          pickup_datetime  \\\n",
       "63395   2015-03-03 23:07:41.0000008        -5.00  2015-03-03 23:07:41 UTC   \n",
       "71246   2010-02-11 21:47:10.0000001        -3.30  2010-02-11 21:47:10 UTC   \n",
       "79903   2015-05-01 14:43:02.0000004        -3.50  2015-05-01 14:43:02 UTC   \n",
       "89322   2010-03-09 08:26:10.0000006       -49.57  2010-03-09 08:26:10 UTC   \n",
       "92063   2010-03-12 08:49:10.0000002       -23.70  2010-03-12 08:49:10 UTC   \n",
       "98875   2015-03-20 21:31:14.0000007       -52.00  2015-03-20 21:31:14 UTC   \n",
       "104080  2010-03-09 20:25:10.0000002        -7.30  2010-03-09 20:25:10 UTC   \n",
       "111589  2015-02-23 19:26:44.0000004       -52.00  2015-02-23 19:26:44 UTC   \n",
       "139272  2010-02-23 18:52:10.0000003        -6.90  2010-02-23 18:52:10 UTC   \n",
       "148803  2010-02-12 10:50:10.0000005        -5.70  2010-02-12 10:50:10 UTC   \n",
       "150301  2015-06-18 07:41:12.0000001        -3.00  2015-06-18 07:41:12 UTC   \n",
       "151681  2010-02-17 05:46:10.0000001       -10.90  2010-02-17 05:46:10 UTC   \n",
       "157412  2015-05-06 03:47:38.0000001        -3.50  2015-05-06 03:47:38 UTC   \n",
       "164056  2010-03-16 15:27:10.0000003       -50.50  2010-03-16 15:27:10 UTC   \n",
       "179111  2015-02-12 22:53:28.0000004        -3.50  2015-02-12 22:53:28 UTC   \n",
       "180444  2015-05-10 04:26:03.0000005        -3.00  2015-05-10 04:26:03 UTC   \n",
       "190925  2015-05-01 23:25:34.0000002        -5.50  2015-05-01 23:25:34 UTC   \n",
       "\n",
       "        pickup_longitude  pickup_latitude  dropoff_longitude  \\\n",
       "63395         -73.992249        40.748936         -73.988518   \n",
       "71246         -73.952725        40.768235         -73.949928   \n",
       "79903         -73.982430        40.775024         -73.981750   \n",
       "89322         -73.972772        40.785657         -73.972867   \n",
       "92063         -73.952740        40.768233         -74.007028   \n",
       "98875         -74.000359        40.728729         -74.005699   \n",
       "104080        -73.952623        40.766942         -73.953787   \n",
       "111589        -73.984665        40.759026           0.000000   \n",
       "139272        -73.988727        40.736445         -73.977622   \n",
       "148803        -73.977300        40.742783         -73.988837   \n",
       "150301        -74.004646        40.707355         -74.004013   \n",
       "151681        -73.964257        40.760630         -73.994222   \n",
       "157412        -73.986084        40.762146         -73.980476   \n",
       "164056        -73.784868        40.648677         -73.976975   \n",
       "179111        -73.989059        40.760181         -73.986649   \n",
       "180444        -73.983727        40.725910         -73.986099   \n",
       "190925        -73.988701        40.742649         -73.985924   \n",
       "\n",
       "        dropoff_latitude  passenger_count  \n",
       "63395          40.748180                1  \n",
       "71246          40.772208                2  \n",
       "79903          40.778439                1  \n",
       "89322          40.785500                5  \n",
       "92063          40.707338                3  \n",
       "98875          40.728680                5  \n",
       "104080         40.784882                1  \n",
       "111589          0.000000                5  \n",
       "139272         40.750487                1  \n",
       "148803         40.747465                3  \n",
       "150301         40.707699                1  \n",
       "151681         40.761533                1  \n",
       "157412         40.759823                1  \n",
       "164056         40.763522                3  \n",
       "179111         40.761829                1  \n",
       "180444         40.722450                2  \n",
       "190925         40.735001                1  "
      ]
     },
     "execution_count": 45,
     "metadata": {},
     "output_type": "execute_result"
    }
   ],
   "source": [
    "# checking the negative fare_amount\n",
    "uber_df[uber_df['fare_amount']<0]"
   ]
  },
  {
   "cell_type": "markdown",
   "metadata": {},
   "source": [
    "It is interesting to see the presence of $17$ examples whose `fare_amount` is negative. I do not know exactly what it means but it can be a type of credit present on the app. "
   ]
  },
  {
   "cell_type": "markdown",
   "metadata": {},
   "source": [
    "Other interesting feature to explore outliers and strange values is `passenger_count` one. Let us to explore it."
   ]
  },
  {
   "cell_type": "code",
   "execution_count": 46,
   "metadata": {},
   "outputs": [
    {
     "data": {
      "text/plain": [
       "passenger_count\n",
       "1      138425\n",
       "2       29428\n",
       "5       14009\n",
       "3        8881\n",
       "4        4276\n",
       "6        4271\n",
       "0         709\n",
       "208         1\n",
       "Name: count, dtype: int64"
      ]
     },
     "execution_count": 46,
     "metadata": {},
     "output_type": "execute_result"
    }
   ],
   "source": [
    "# value counts for passsenger count feature\n",
    "uber_df.passenger_count.value_counts()"
   ]
  },
  {
   "cell_type": "markdown",
   "metadata": {},
   "source": [
    "It is evident that $208$ passengers is an outlier in our data. Let's see this example:"
   ]
  },
  {
   "cell_type": "code",
   "execution_count": 15,
   "metadata": {},
   "outputs": [
    {
     "data": {
      "text/html": [
       "<div>\n",
       "<style scoped>\n",
       "    .dataframe tbody tr th:only-of-type {\n",
       "        vertical-align: middle;\n",
       "    }\n",
       "\n",
       "    .dataframe tbody tr th {\n",
       "        vertical-align: top;\n",
       "    }\n",
       "\n",
       "    .dataframe thead th {\n",
       "        text-align: right;\n",
       "    }\n",
       "</style>\n",
       "<table border=\"1\" class=\"dataframe\">\n",
       "  <thead>\n",
       "    <tr style=\"text-align: right;\">\n",
       "      <th></th>\n",
       "      <th>key</th>\n",
       "      <th>fare_amount</th>\n",
       "      <th>pickup_datetime</th>\n",
       "      <th>pickup_longitude</th>\n",
       "      <th>pickup_latitude</th>\n",
       "      <th>dropoff_longitude</th>\n",
       "      <th>dropoff_latitude</th>\n",
       "      <th>passenger_count</th>\n",
       "    </tr>\n",
       "  </thead>\n",
       "  <tbody>\n",
       "    <tr>\n",
       "      <th>113038</th>\n",
       "      <td>2010-12-28 08:20:00.0000001</td>\n",
       "      <td>11.7</td>\n",
       "      <td>2010-12-28 08:20:00 UTC</td>\n",
       "      <td>-73.937795</td>\n",
       "      <td>40.758498</td>\n",
       "      <td>-73.937835</td>\n",
       "      <td>40.758415</td>\n",
       "      <td>208</td>\n",
       "    </tr>\n",
       "  </tbody>\n",
       "</table>\n",
       "</div>"
      ],
      "text/plain": [
       "                                key  fare_amount          pickup_datetime  \\\n",
       "113038  2010-12-28 08:20:00.0000001         11.7  2010-12-28 08:20:00 UTC   \n",
       "\n",
       "        pickup_longitude  pickup_latitude  dropoff_longitude  \\\n",
       "113038        -73.937795        40.758498         -73.937835   \n",
       "\n",
       "        dropoff_latitude  passenger_count  \n",
       "113038         40.758415              208  "
      ]
     },
     "execution_count": 15,
     "metadata": {},
     "output_type": "execute_result"
    }
   ],
   "source": [
    "uber_df[uber_df[\"passenger_count\"]==208]"
   ]
  },
  {
   "cell_type": "markdown",
   "metadata": {},
   "source": [
    "As this is a unique example and nothing can be said about `passenger_count` in this case, we will drop this example later. Maybe $0$ passengers can be a strange value but in apps like uber it is possible to transport objects instead people - I do not know if it is the case, then I will maintain these data."
   ]
  },
  {
   "cell_type": "markdown",
   "metadata": {},
   "source": [
    "There are some important modifications to be done into our data. The features `pickup_longitude`, `pickup_latitude`, `dropoff_longitude`, and `dropoff_latitude` represent geographical coordinates. We can create a distance feature from them, representing the real distance of the ride. To do that, we can use Heaversine Distance, for example. Another modification to be done is regarding `pickup_datetime` feature. We can separate the date from the time and create two features. We will make these feature engineering later."
   ]
  }
 ],
 "metadata": {
  "kernelspec": {
   "display_name": "machine-learning-projects",
   "language": "python",
   "name": "python3"
  },
  "language_info": {
   "codemirror_mode": {
    "name": "ipython",
    "version": 3
   },
   "file_extension": ".py",
   "mimetype": "text/x-python",
   "name": "python",
   "nbconvert_exporter": "python",
   "pygments_lexer": "ipython3",
   "version": "3.11.5"
  }
 },
 "nbformat": 4,
 "nbformat_minor": 2
}
