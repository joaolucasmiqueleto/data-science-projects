{
 "cells": [
  {
   "cell_type": "markdown",
   "metadata": {},
   "source": [
    "# Uber Fares Dataset - Cleaning and Preparing Data \n",
    "In this second notebook we have two aims: \n",
    "1) Clean the data, which involves remove some examples and deal with null values, for example;\n",
    "2) Separate a test set; "
   ]
  },
  {
   "cell_type": "markdown",
   "metadata": {},
   "source": [
    "## Imports "
   ]
  },
  {
   "cell_type": "code",
   "execution_count": 1,
   "metadata": {},
   "outputs": [],
   "source": [
    "# standard libraries\n",
    "import pandas as pd \n",
    "import numpy as np\n",
    "import matplotlib.pyplot as plt \n",
    "import seaborn as sns\n",
    "from math import radians\n",
    "\n",
    "# scikit learn imports \n",
    "from sklearn.metrics.pairwise import haversine_distances\n",
    "from sklearn.model_selection import train_test_split"
   ]
  },
  {
   "cell_type": "markdown",
   "metadata": {},
   "source": [
    "## Loading the Data "
   ]
  },
  {
   "cell_type": "code",
   "execution_count": 2,
   "metadata": {},
   "outputs": [],
   "source": [
    "# loading the data \n",
    "path_data = '../data/raw/'\n",
    "uber_df = (\n",
    "    pd.read_csv(path_data + 'uber.csv', index_col=[0])\n",
    "    .reset_index(drop=True)\n",
    ")"
   ]
  },
  {
   "cell_type": "code",
   "execution_count": 3,
   "metadata": {},
   "outputs": [],
   "source": [
    "# using a copy of the raw data \n",
    "uber_df_ = uber_df.copy()"
   ]
  },
  {
   "cell_type": "markdown",
   "metadata": {},
   "source": [
    "## Dealing with Nulls and Outliers"
   ]
  },
  {
   "cell_type": "markdown",
   "metadata": {},
   "source": [
    "The first thing we need to do is deal with null values and outliers present in our data. As we have seen earlier, there is one null values and one explicit outlier. In this case, we will drop both of them without prejudice. Let's see the null and outlier again:"
   ]
  },
  {
   "cell_type": "code",
   "execution_count": 5,
   "metadata": {},
   "outputs": [
    {
     "data": {
      "text/html": [
       "<div>\n",
       "<style scoped>\n",
       "    .dataframe tbody tr th:only-of-type {\n",
       "        vertical-align: middle;\n",
       "    }\n",
       "\n",
       "    .dataframe tbody tr th {\n",
       "        vertical-align: top;\n",
       "    }\n",
       "\n",
       "    .dataframe thead th {\n",
       "        text-align: right;\n",
       "    }\n",
       "</style>\n",
       "<table border=\"1\" class=\"dataframe\">\n",
       "  <thead>\n",
       "    <tr style=\"text-align: right;\">\n",
       "      <th></th>\n",
       "      <th>key</th>\n",
       "      <th>fare_amount</th>\n",
       "      <th>pickup_datetime</th>\n",
       "      <th>pickup_longitude</th>\n",
       "      <th>pickup_latitude</th>\n",
       "      <th>dropoff_longitude</th>\n",
       "      <th>dropoff_latitude</th>\n",
       "      <th>passenger_count</th>\n",
       "    </tr>\n",
       "  </thead>\n",
       "  <tbody>\n",
       "    <tr>\n",
       "      <th>87946</th>\n",
       "      <td>2013-07-02 03:51:57.0000001</td>\n",
       "      <td>24.1</td>\n",
       "      <td>2013-07-02 03:51:57 UTC</td>\n",
       "      <td>-73.950581</td>\n",
       "      <td>40.779692</td>\n",
       "      <td>NaN</td>\n",
       "      <td>NaN</td>\n",
       "      <td>0</td>\n",
       "    </tr>\n",
       "  </tbody>\n",
       "</table>\n",
       "</div>"
      ],
      "text/plain": [
       "                               key  fare_amount          pickup_datetime  \\\n",
       "87946  2013-07-02 03:51:57.0000001         24.1  2013-07-02 03:51:57 UTC   \n",
       "\n",
       "       pickup_longitude  pickup_latitude  dropoff_longitude  dropoff_latitude  \\\n",
       "87946        -73.950581        40.779692                NaN               NaN   \n",
       "\n",
       "       passenger_count  \n",
       "87946                0  "
      ]
     },
     "execution_count": 5,
     "metadata": {},
     "output_type": "execute_result"
    }
   ],
   "source": [
    "# null value\n",
    "uber_df_[uber_df_.isna().any(axis=1)]"
   ]
  },
  {
   "cell_type": "code",
   "execution_count": 7,
   "metadata": {},
   "outputs": [
    {
     "data": {
      "text/html": [
       "<div>\n",
       "<style scoped>\n",
       "    .dataframe tbody tr th:only-of-type {\n",
       "        vertical-align: middle;\n",
       "    }\n",
       "\n",
       "    .dataframe tbody tr th {\n",
       "        vertical-align: top;\n",
       "    }\n",
       "\n",
       "    .dataframe thead th {\n",
       "        text-align: right;\n",
       "    }\n",
       "</style>\n",
       "<table border=\"1\" class=\"dataframe\">\n",
       "  <thead>\n",
       "    <tr style=\"text-align: right;\">\n",
       "      <th></th>\n",
       "      <th>key</th>\n",
       "      <th>fare_amount</th>\n",
       "      <th>pickup_datetime</th>\n",
       "      <th>pickup_longitude</th>\n",
       "      <th>pickup_latitude</th>\n",
       "      <th>dropoff_longitude</th>\n",
       "      <th>dropoff_latitude</th>\n",
       "      <th>passenger_count</th>\n",
       "    </tr>\n",
       "  </thead>\n",
       "  <tbody>\n",
       "    <tr>\n",
       "      <th>113038</th>\n",
       "      <td>2010-12-28 08:20:00.0000001</td>\n",
       "      <td>11.7</td>\n",
       "      <td>2010-12-28 08:20:00 UTC</td>\n",
       "      <td>-73.937795</td>\n",
       "      <td>40.758498</td>\n",
       "      <td>-73.937835</td>\n",
       "      <td>40.758415</td>\n",
       "      <td>208</td>\n",
       "    </tr>\n",
       "  </tbody>\n",
       "</table>\n",
       "</div>"
      ],
      "text/plain": [
       "                                key  fare_amount          pickup_datetime  \\\n",
       "113038  2010-12-28 08:20:00.0000001         11.7  2010-12-28 08:20:00 UTC   \n",
       "\n",
       "        pickup_longitude  pickup_latitude  dropoff_longitude  \\\n",
       "113038        -73.937795        40.758498         -73.937835   \n",
       "\n",
       "        dropoff_latitude  passenger_count  \n",
       "113038         40.758415              208  "
      ]
     },
     "execution_count": 7,
     "metadata": {},
     "output_type": "execute_result"
    }
   ],
   "source": [
    "# outlier\n",
    "uber_df_[uber_df_[\"passenger_count\"]>=7]"
   ]
  },
  {
   "cell_type": "markdown",
   "metadata": {},
   "source": [
    "To have $208$ passengers in a ride do not make sense. We will also drop this example in the sequence. Beyond it, note that `key` feature does not give more information than `pickup_datetime` one to us. Then, we prefere to delete this feature of our data. "
   ]
  },
  {
   "cell_type": "code",
   "execution_count": 8,
   "metadata": {},
   "outputs": [],
   "source": [
    "# choosing the features to be maintained\n",
    "features_list = [\n",
    "    'fare_amount',\n",
    "    'pickup_datetime', \n",
    "    'pickup_longitude',\n",
    "    'pickup_latitude',\n",
    "    'dropoff_longitude',\n",
    "    'dropoff_latitude',\n",
    "    'passenger_count'\n",
    "]"
   ]
  },
  {
   "cell_type": "markdown",
   "metadata": {},
   "source": [
    "Now, we can drop the null and outlier values, and remove the `key` feature: "
   ]
  },
  {
   "cell_type": "code",
   "execution_count": 9,
   "metadata": {},
   "outputs": [],
   "source": [
    "# dropping null and outlier values, and key feature\n",
    "uber_df_ = (\n",
    "    uber_df_\n",
    "    .query(\n",
    "        \"passenger_count < 7\"\n",
    "    )\n",
    "    .dropna()\n",
    "    .filter(\n",
    "        items=features_list\n",
    "    )\n",
    ")"
   ]
  },
  {
   "cell_type": "markdown",
   "metadata": {},
   "source": [
    "However, there are other strange values in this data that we need to deal with. As we know, `latitude` and `longitude` are expressed in degrees and both belong to an specific interval of possible values. For latitude it is $[-90, 90]$ and for longitude is $[-180, 180]$. Then, we need to apply this filter to eliminate everything outside these intervals. Let's first see if there are examples outside the intervals:"
   ]
  },
  {
   "cell_type": "code",
   "execution_count": 10,
   "metadata": {},
   "outputs": [
    {
     "data": {
      "text/html": [
       "<div>\n",
       "<style scoped>\n",
       "    .dataframe tbody tr th:only-of-type {\n",
       "        vertical-align: middle;\n",
       "    }\n",
       "\n",
       "    .dataframe tbody tr th {\n",
       "        vertical-align: top;\n",
       "    }\n",
       "\n",
       "    .dataframe thead th {\n",
       "        text-align: right;\n",
       "    }\n",
       "</style>\n",
       "<table border=\"1\" class=\"dataframe\">\n",
       "  <thead>\n",
       "    <tr style=\"text-align: right;\">\n",
       "      <th></th>\n",
       "      <th>fare_amount</th>\n",
       "      <th>pickup_datetime</th>\n",
       "      <th>pickup_longitude</th>\n",
       "      <th>pickup_latitude</th>\n",
       "      <th>dropoff_longitude</th>\n",
       "      <th>dropoff_latitude</th>\n",
       "      <th>passenger_count</th>\n",
       "    </tr>\n",
       "  </thead>\n",
       "  <tbody>\n",
       "    <tr>\n",
       "      <th>56617</th>\n",
       "      <td>8.1</td>\n",
       "      <td>2012-03-11 07:24:00 UTC</td>\n",
       "      <td>-73.960828</td>\n",
       "      <td>404.433332</td>\n",
       "      <td>-73.988357</td>\n",
       "      <td>40.769037</td>\n",
       "      <td>1</td>\n",
       "    </tr>\n",
       "    <tr>\n",
       "      <th>61793</th>\n",
       "      <td>8.5</td>\n",
       "      <td>2012-06-13 05:45:00 UTC</td>\n",
       "      <td>-73.951385</td>\n",
       "      <td>401.066667</td>\n",
       "      <td>-73.982110</td>\n",
       "      <td>40.754117</td>\n",
       "      <td>1</td>\n",
       "    </tr>\n",
       "    <tr>\n",
       "      <th>75851</th>\n",
       "      <td>15.7</td>\n",
       "      <td>2011-11-05 00:22:00 UTC</td>\n",
       "      <td>-1340.648410</td>\n",
       "      <td>1644.421482</td>\n",
       "      <td>-3356.666300</td>\n",
       "      <td>872.697628</td>\n",
       "      <td>1</td>\n",
       "    </tr>\n",
       "    <tr>\n",
       "      <th>91422</th>\n",
       "      <td>16.1</td>\n",
       "      <td>2011-05-18 13:24:00 UTC</td>\n",
       "      <td>57.418457</td>\n",
       "      <td>1292.016128</td>\n",
       "      <td>1153.572603</td>\n",
       "      <td>-881.985513</td>\n",
       "      <td>1</td>\n",
       "    </tr>\n",
       "    <tr>\n",
       "      <th>139447</th>\n",
       "      <td>13.7</td>\n",
       "      <td>2012-01-20 11:50:00 UTC</td>\n",
       "      <td>-74.011042</td>\n",
       "      <td>40.709780</td>\n",
       "      <td>-73.983163</td>\n",
       "      <td>493.533332</td>\n",
       "      <td>4</td>\n",
       "    </tr>\n",
       "  </tbody>\n",
       "</table>\n",
       "</div>"
      ],
      "text/plain": [
       "        fare_amount          pickup_datetime  pickup_longitude  \\\n",
       "56617           8.1  2012-03-11 07:24:00 UTC        -73.960828   \n",
       "61793           8.5  2012-06-13 05:45:00 UTC        -73.951385   \n",
       "75851          15.7  2011-11-05 00:22:00 UTC      -1340.648410   \n",
       "91422          16.1  2011-05-18 13:24:00 UTC         57.418457   \n",
       "139447         13.7  2012-01-20 11:50:00 UTC        -74.011042   \n",
       "\n",
       "        pickup_latitude  dropoff_longitude  dropoff_latitude  passenger_count  \n",
       "56617        404.433332         -73.988357         40.769037                1  \n",
       "61793        401.066667         -73.982110         40.754117                1  \n",
       "75851       1644.421482       -3356.666300        872.697628                1  \n",
       "91422       1292.016128        1153.572603       -881.985513                1  \n",
       "139447        40.709780         -73.983163        493.533332                4  "
      ]
     },
     "execution_count": 10,
     "metadata": {},
     "output_type": "execute_result"
    }
   ],
   "source": [
    "# seeing the data outside the latitude limit\n",
    "uber_df_[\n",
    "    (uber_df_.pickup_latitude > 90)  |\n",
    "    (uber_df_.pickup_latitude < -90) |\n",
    "    (uber_df_.dropoff_latitude > 90) |\n",
    "    (uber_df_.dropoff_latitude < -90)\n",
    "]"
   ]
  },
  {
   "cell_type": "code",
   "execution_count": 11,
   "metadata": {},
   "outputs": [
    {
     "data": {
      "text/html": [
       "<div>\n",
       "<style scoped>\n",
       "    .dataframe tbody tr th:only-of-type {\n",
       "        vertical-align: middle;\n",
       "    }\n",
       "\n",
       "    .dataframe tbody tr th {\n",
       "        vertical-align: top;\n",
       "    }\n",
       "\n",
       "    .dataframe thead th {\n",
       "        text-align: right;\n",
       "    }\n",
       "</style>\n",
       "<table border=\"1\" class=\"dataframe\">\n",
       "  <thead>\n",
       "    <tr style=\"text-align: right;\">\n",
       "      <th></th>\n",
       "      <th>fare_amount</th>\n",
       "      <th>pickup_datetime</th>\n",
       "      <th>pickup_longitude</th>\n",
       "      <th>pickup_latitude</th>\n",
       "      <th>dropoff_longitude</th>\n",
       "      <th>dropoff_latitude</th>\n",
       "      <th>passenger_count</th>\n",
       "    </tr>\n",
       "  </thead>\n",
       "  <tbody>\n",
       "    <tr>\n",
       "      <th>4949</th>\n",
       "      <td>4.9</td>\n",
       "      <td>2012-04-28 00:58:00 UTC</td>\n",
       "      <td>-748.016667</td>\n",
       "      <td>40.739957</td>\n",
       "      <td>-74.003570</td>\n",
       "      <td>40.734192</td>\n",
       "      <td>1</td>\n",
       "    </tr>\n",
       "    <tr>\n",
       "      <th>32549</th>\n",
       "      <td>15.7</td>\n",
       "      <td>2012-06-16 10:04:00 UTC</td>\n",
       "      <td>-74.016055</td>\n",
       "      <td>40.715155</td>\n",
       "      <td>-737.916665</td>\n",
       "      <td>40.697862</td>\n",
       "      <td>2</td>\n",
       "    </tr>\n",
       "    <tr>\n",
       "      <th>48506</th>\n",
       "      <td>33.7</td>\n",
       "      <td>2011-11-05 23:26:00 UTC</td>\n",
       "      <td>-735.200000</td>\n",
       "      <td>40.770092</td>\n",
       "      <td>-73.980187</td>\n",
       "      <td>40.765530</td>\n",
       "      <td>1</td>\n",
       "    </tr>\n",
       "    <tr>\n",
       "      <th>75851</th>\n",
       "      <td>15.7</td>\n",
       "      <td>2011-11-05 00:22:00 UTC</td>\n",
       "      <td>-1340.648410</td>\n",
       "      <td>1644.421482</td>\n",
       "      <td>-3356.666300</td>\n",
       "      <td>872.697628</td>\n",
       "      <td>1</td>\n",
       "    </tr>\n",
       "    <tr>\n",
       "      <th>91422</th>\n",
       "      <td>16.1</td>\n",
       "      <td>2011-05-18 13:24:00 UTC</td>\n",
       "      <td>57.418457</td>\n",
       "      <td>1292.016128</td>\n",
       "      <td>1153.572603</td>\n",
       "      <td>-881.985513</td>\n",
       "      <td>1</td>\n",
       "    </tr>\n",
       "    <tr>\n",
       "      <th>103745</th>\n",
       "      <td>12.9</td>\n",
       "      <td>2011-10-14 19:04:00 UTC</td>\n",
       "      <td>-736.216667</td>\n",
       "      <td>40.767035</td>\n",
       "      <td>-73.982377</td>\n",
       "      <td>40.725562</td>\n",
       "      <td>1</td>\n",
       "    </tr>\n",
       "    <tr>\n",
       "      <th>144253</th>\n",
       "      <td>7.3</td>\n",
       "      <td>2009-08-26 11:55:00 UTC</td>\n",
       "      <td>-768.550000</td>\n",
       "      <td>40.757812</td>\n",
       "      <td>-73.997040</td>\n",
       "      <td>40.740007</td>\n",
       "      <td>1</td>\n",
       "    </tr>\n",
       "    <tr>\n",
       "      <th>161652</th>\n",
       "      <td>4.1</td>\n",
       "      <td>2010-05-12 12:19:00 UTC</td>\n",
       "      <td>-735.433332</td>\n",
       "      <td>40.740605</td>\n",
       "      <td>-74.006373</td>\n",
       "      <td>40.739607</td>\n",
       "      <td>1</td>\n",
       "    </tr>\n",
       "    <tr>\n",
       "      <th>199936</th>\n",
       "      <td>4.1</td>\n",
       "      <td>2012-07-21 16:19:00 UTC</td>\n",
       "      <td>-736.400000</td>\n",
       "      <td>40.774307</td>\n",
       "      <td>-73.982215</td>\n",
       "      <td>40.769672</td>\n",
       "      <td>5</td>\n",
       "    </tr>\n",
       "  </tbody>\n",
       "</table>\n",
       "</div>"
      ],
      "text/plain": [
       "        fare_amount          pickup_datetime  pickup_longitude  \\\n",
       "4949            4.9  2012-04-28 00:58:00 UTC       -748.016667   \n",
       "32549          15.7  2012-06-16 10:04:00 UTC        -74.016055   \n",
       "48506          33.7  2011-11-05 23:26:00 UTC       -735.200000   \n",
       "75851          15.7  2011-11-05 00:22:00 UTC      -1340.648410   \n",
       "91422          16.1  2011-05-18 13:24:00 UTC         57.418457   \n",
       "103745         12.9  2011-10-14 19:04:00 UTC       -736.216667   \n",
       "144253          7.3  2009-08-26 11:55:00 UTC       -768.550000   \n",
       "161652          4.1  2010-05-12 12:19:00 UTC       -735.433332   \n",
       "199936          4.1  2012-07-21 16:19:00 UTC       -736.400000   \n",
       "\n",
       "        pickup_latitude  dropoff_longitude  dropoff_latitude  passenger_count  \n",
       "4949          40.739957         -74.003570         40.734192                1  \n",
       "32549         40.715155        -737.916665         40.697862                2  \n",
       "48506         40.770092         -73.980187         40.765530                1  \n",
       "75851       1644.421482       -3356.666300        872.697628                1  \n",
       "91422       1292.016128        1153.572603       -881.985513                1  \n",
       "103745        40.767035         -73.982377         40.725562                1  \n",
       "144253        40.757812         -73.997040         40.740007                1  \n",
       "161652        40.740605         -74.006373         40.739607                1  \n",
       "199936        40.774307         -73.982215         40.769672                5  "
      ]
     },
     "execution_count": 11,
     "metadata": {},
     "output_type": "execute_result"
    }
   ],
   "source": [
    "# seeing the data outside the longitude limit\n",
    "uber_df_[\n",
    "    (uber_df_.pickup_longitude > 180)  |\n",
    "    (uber_df_.pickup_longitude < -180) |\n",
    "    (uber_df_.dropoff_longitude > 180) |\n",
    "    (uber_df_.dropoff_longitude < -180)\n",
    "]"
   ]
  },
  {
   "cell_type": "markdown",
   "metadata": {},
   "source": [
    "Let us filter our data to belong the valid intervals for latitude and longitude:"
   ]
  },
  {
   "cell_type": "code",
   "execution_count": 12,
   "metadata": {},
   "outputs": [],
   "source": [
    "# setting latitude and longitude features to the correct intervals \n",
    "uber_df_ = (\n",
    "    uber_df_\n",
    "    .query(\n",
    "        'pickup_latitude >= -90 and pickup_latitude <= 90'\n",
    "    )\n",
    "    .query(\n",
    "        'dropoff_latitude >= -90 and dropoff_latitude <= 90'\n",
    "    )\n",
    "    .query(\n",
    "        'pickup_longitude >= -180 and pickup_longitude <= 180'\n",
    "    )\n",
    "    .query(\n",
    "        'dropoff_longitude >= -180 and dropoff_longitude <= 180'\n",
    "    )\n",
    ")"
   ]
  },
  {
   "cell_type": "markdown",
   "metadata": {},
   "source": [
    "We can save this dataset for future use. This will be a pre-cleaned dataset where we have removed outliers and null values. However, we haven't completed the data cleaning yet."
   ]
  },
  {
   "cell_type": "code",
   "execution_count": 13,
   "metadata": {},
   "outputs": [],
   "source": [
    "# saving the pre-cleaned data \n",
    "path_pre_cleaned_data = '../../uber-fares-prediction/data/interim/'\n",
    "uber_df_.to_csv(path_pre_cleaned_data + 'uber_pre_cleaned_data.csv')"
   ]
  },
  {
   "cell_type": "markdown",
   "metadata": {},
   "source": [
    "The next step is cleaning the data a little more, once we have `latitude` and `longitude` features that do not make sense as they represent complete anomalous locations which would correspond to impossible rides to be realized by Uber cars."
   ]
  },
  {
   "cell_type": "markdown",
   "metadata": {},
   "source": [
    "## Cleaning the data a little more "
   ]
  },
  {
   "cell_type": "markdown",
   "metadata": {},
   "source": [
    "Let's analyze the distribution of latitude and longitude features to see around which values they are concentrated."
   ]
  },
  {
   "cell_type": "code",
   "execution_count": 14,
   "metadata": {},
   "outputs": [
    {
     "data": {
      "image/png": "[encoded data removed]",
      "text/plain": [
       "<Figure size 640x480 with 2 Axes>"
      ]
     },
     "metadata": {},
     "output_type": "display_data"
    }
   ],
   "source": [
    "# histograms for pickup and dropoff latitude features\n",
    "n_bins = 50\n",
    "fig, axs = plt.subplots(1, 2, sharey=True, tight_layout=True)\n",
    "\n",
    "axs[0].hist(uber_df_['pickup_latitude'], \n",
    "            bins=n_bins,\n",
    "            color='darkgreen',\n",
    "            edgecolor='black')\n",
    "axs[0].set_xlim(-90, 90)\n",
    "\n",
    "axs[0].set_title('Histogram of Pickup Latitude')\n",
    "axs[0].set_xlabel('Pickup Latitude')\n",
    "axs[0].set_ylabel('Amount of Rides')\n",
    "axs[0].set_yscale('log')\n",
    "\n",
    "axs[1].hist(uber_df_['dropoff_latitude'], \n",
    "            bins=n_bins,\n",
    "            color='darkgreen',\n",
    "            edgecolor='black')\n",
    "axs[1].set_xlim(-90, 90)\n",
    "\n",
    "axs[1].set_title('Histogram of Dropoff Latitude')\n",
    "axs[1].set_xlabel('Dropoff Latitude')\n",
    "axs[1].set_ylabel('Amount of Rides')\n",
    "axs[1].set_yscale('log')"
   ]
  },
  {
   "cell_type": "code",
   "execution_count": 13,
   "metadata": {},
   "outputs": [
    {
     "data": {
      "image/png": "[encoded data removed]",
      "text/plain": [
       "<Figure size 640x480 with 2 Axes>"
      ]
     },
     "metadata": {},
     "output_type": "display_data"
    }
   ],
   "source": [
    "# histograms for pickup and dropoff longitude features\n",
    "n_bins = 20\n",
    "fig, axs = plt.subplots(1, 2, sharey=True, tight_layout=True)\n",
    "\n",
    "axs[0].hist(uber_df_['pickup_longitude'], \n",
    "            bins=n_bins,\n",
    "            color='darkgreen',\n",
    "            edgecolor='black')\n",
    "axs[0].set_xlim(-180, 180)\n",
    "\n",
    "axs[0].set_title('Histogram of Pickup Longitude')\n",
    "axs[0].set_xlabel('Pickup Longitude')\n",
    "axs[0].set_ylabel('Amount of Rides')\n",
    "axs[0].set_yscale('log')\n",
    "\n",
    "axs[1].hist(uber_df_['dropoff_longitude'], \n",
    "            bins=n_bins,\n",
    "            color='darkgreen',\n",
    "            edgecolor='black')\n",
    "axs[1].set_xlim(-180, 180)\n",
    "\n",
    "axs[1].set_title('Histogram of Dropoff Longitude')\n",
    "axs[1].set_xlabel('Dropoff Longitude')\n",
    "axs[1].set_ylabel('Amount of Rides')\n",
    "axs[1].set_yscale('log')"
   ]
  },
  {
   "cell_type": "markdown",
   "metadata": {},
   "source": [
    "As we see, for latitude, the most part of values are concentrated around the interval $[30, 50]$ - although there are also a lot of zero values -, while for longitude the values are concentrated around $[-60, -100]$ - and there are many zero values here too. This concentration indicates we are dealing with data from USA location. The limits (maximum and minimum) of USA latitude and longitude are:\n",
    "- Minimum Latitude: Approximately $24.396308$ degrees North\n",
    "- Maximum Latitude: Approximately $49.384358$ degrees North\n",
    "- Minimum Longitude: Approximately $-125.000000$ degrees West\n",
    "- Maximum Longitude: Approximately $-66.934570$ degrees West"
   ]
  },
  {
   "cell_type": "markdown",
   "metadata": {},
   "source": [
    "To deal with the values that are outside the USA limits, we need to separate them in cases. They are: \n",
    "1) If `pickup_latitude`, `pickup_longitude`, `dropoff_latitude` and `dropoff_longitude` are all zero, we will drop this example as we do not have any geographical information about the ride;\n",
    "2) To the other cases in which we have strange values, we need to specify the following: if the value is outside the USA limits, we will input the mean of the column for this value. "
   ]
  },
  {
   "cell_type": "markdown",
   "metadata": {},
   "source": [
    "#### Latitude and Longitude all zero"
   ]
  },
  {
   "cell_type": "code",
   "execution_count": 15,
   "metadata": {},
   "outputs": [
    {
     "data": {
      "text/html": [
       "<div>\n",
       "<style scoped>\n",
       "    .dataframe tbody tr th:only-of-type {\n",
       "        vertical-align: middle;\n",
       "    }\n",
       "\n",
       "    .dataframe tbody tr th {\n",
       "        vertical-align: top;\n",
       "    }\n",
       "\n",
       "    .dataframe thead th {\n",
       "        text-align: right;\n",
       "    }\n",
       "</style>\n",
       "<table border=\"1\" class=\"dataframe\">\n",
       "  <thead>\n",
       "    <tr style=\"text-align: right;\">\n",
       "      <th></th>\n",
       "      <th>fare_amount</th>\n",
       "      <th>pickup_datetime</th>\n",
       "      <th>pickup_longitude</th>\n",
       "      <th>pickup_latitude</th>\n",
       "      <th>dropoff_longitude</th>\n",
       "      <th>dropoff_latitude</th>\n",
       "      <th>passenger_count</th>\n",
       "    </tr>\n",
       "  </thead>\n",
       "  <tbody>\n",
       "    <tr>\n",
       "      <th>7</th>\n",
       "      <td>2.5</td>\n",
       "      <td>2012-12-11 13:52:00 UTC</td>\n",
       "      <td>0.0</td>\n",
       "      <td>0.0</td>\n",
       "      <td>0.0</td>\n",
       "      <td>0.0</td>\n",
       "      <td>1</td>\n",
       "    </tr>\n",
       "    <tr>\n",
       "      <th>11</th>\n",
       "      <td>8.5</td>\n",
       "      <td>2011-05-23 22:15:00 UTC</td>\n",
       "      <td>0.0</td>\n",
       "      <td>0.0</td>\n",
       "      <td>0.0</td>\n",
       "      <td>0.0</td>\n",
       "      <td>1</td>\n",
       "    </tr>\n",
       "    <tr>\n",
       "      <th>65</th>\n",
       "      <td>6.0</td>\n",
       "      <td>2014-05-05 19:27:00 UTC</td>\n",
       "      <td>0.0</td>\n",
       "      <td>0.0</td>\n",
       "      <td>0.0</td>\n",
       "      <td>0.0</td>\n",
       "      <td>1</td>\n",
       "    </tr>\n",
       "    <tr>\n",
       "      <th>92</th>\n",
       "      <td>6.1</td>\n",
       "      <td>2011-12-02 14:07:00 UTC</td>\n",
       "      <td>0.0</td>\n",
       "      <td>0.0</td>\n",
       "      <td>0.0</td>\n",
       "      <td>0.0</td>\n",
       "      <td>1</td>\n",
       "    </tr>\n",
       "    <tr>\n",
       "      <th>120</th>\n",
       "      <td>6.5</td>\n",
       "      <td>2010-08-20 19:39:48 UTC</td>\n",
       "      <td>0.0</td>\n",
       "      <td>0.0</td>\n",
       "      <td>0.0</td>\n",
       "      <td>0.0</td>\n",
       "      <td>1</td>\n",
       "    </tr>\n",
       "    <tr>\n",
       "      <th>...</th>\n",
       "      <td>...</td>\n",
       "      <td>...</td>\n",
       "      <td>...</td>\n",
       "      <td>...</td>\n",
       "      <td>...</td>\n",
       "      <td>...</td>\n",
       "      <td>...</td>\n",
       "    </tr>\n",
       "    <tr>\n",
       "      <th>199718</th>\n",
       "      <td>4.9</td>\n",
       "      <td>2011-08-19 07:16:00 UTC</td>\n",
       "      <td>0.0</td>\n",
       "      <td>0.0</td>\n",
       "      <td>0.0</td>\n",
       "      <td>0.0</td>\n",
       "      <td>1</td>\n",
       "    </tr>\n",
       "    <tr>\n",
       "      <th>199724</th>\n",
       "      <td>7.5</td>\n",
       "      <td>2013-10-11 11:25:41 UTC</td>\n",
       "      <td>0.0</td>\n",
       "      <td>0.0</td>\n",
       "      <td>0.0</td>\n",
       "      <td>0.0</td>\n",
       "      <td>1</td>\n",
       "    </tr>\n",
       "    <tr>\n",
       "      <th>199880</th>\n",
       "      <td>6.5</td>\n",
       "      <td>2014-02-22 06:45:46 UTC</td>\n",
       "      <td>0.0</td>\n",
       "      <td>0.0</td>\n",
       "      <td>0.0</td>\n",
       "      <td>0.0</td>\n",
       "      <td>1</td>\n",
       "    </tr>\n",
       "    <tr>\n",
       "      <th>199883</th>\n",
       "      <td>12.5</td>\n",
       "      <td>2012-09-10 17:39:00 UTC</td>\n",
       "      <td>0.0</td>\n",
       "      <td>0.0</td>\n",
       "      <td>0.0</td>\n",
       "      <td>0.0</td>\n",
       "      <td>2</td>\n",
       "    </tr>\n",
       "    <tr>\n",
       "      <th>199963</th>\n",
       "      <td>39.0</td>\n",
       "      <td>2012-09-22 07:46:01 UTC</td>\n",
       "      <td>0.0</td>\n",
       "      <td>0.0</td>\n",
       "      <td>0.0</td>\n",
       "      <td>0.0</td>\n",
       "      <td>1</td>\n",
       "    </tr>\n",
       "  </tbody>\n",
       "</table>\n",
       "<p>3587 rows × 7 columns</p>\n",
       "</div>"
      ],
      "text/plain": [
       "        fare_amount          pickup_datetime  pickup_longitude  \\\n",
       "7               2.5  2012-12-11 13:52:00 UTC               0.0   \n",
       "11              8.5  2011-05-23 22:15:00 UTC               0.0   \n",
       "65              6.0  2014-05-05 19:27:00 UTC               0.0   \n",
       "92              6.1  2011-12-02 14:07:00 UTC               0.0   \n",
       "120             6.5  2010-08-20 19:39:48 UTC               0.0   \n",
       "...             ...                      ...               ...   \n",
       "199718          4.9  2011-08-19 07:16:00 UTC               0.0   \n",
       "199724          7.5  2013-10-11 11:25:41 UTC               0.0   \n",
       "199880          6.5  2014-02-22 06:45:46 UTC               0.0   \n",
       "199883         12.5  2012-09-10 17:39:00 UTC               0.0   \n",
       "199963         39.0  2012-09-22 07:46:01 UTC               0.0   \n",
       "\n",
       "        pickup_latitude  dropoff_longitude  dropoff_latitude  passenger_count  \n",
       "7                   0.0                0.0               0.0                1  \n",
       "11                  0.0                0.0               0.0                1  \n",
       "65                  0.0                0.0               0.0                1  \n",
       "92                  0.0                0.0               0.0                1  \n",
       "120                 0.0                0.0               0.0                1  \n",
       "...                 ...                ...               ...              ...  \n",
       "199718              0.0                0.0               0.0                1  \n",
       "199724              0.0                0.0               0.0                1  \n",
       "199880              0.0                0.0               0.0                1  \n",
       "199883              0.0                0.0               0.0                2  \n",
       "199963              0.0                0.0               0.0                1  \n",
       "\n",
       "[3587 rows x 7 columns]"
      ]
     },
     "execution_count": 15,
     "metadata": {},
     "output_type": "execute_result"
    }
   ],
   "source": [
    "# all latitude and longitude feature being zero\n",
    "uber_df_[\n",
    "    (uber_df_.pickup_latitude == 0) &\n",
    "    (uber_df_.pickup_longitude == 0) &\n",
    "    (uber_df_.dropoff_latitude == 0) & \n",
    "    (uber_df_.dropoff_longitude == 0)\n",
    "]"
   ]
  },
  {
   "cell_type": "code",
   "execution_count": 16,
   "metadata": {},
   "outputs": [],
   "source": [
    "# dropping the rows with latitude and longitude being zero\n",
    "uber_df_ = (\n",
    "    uber_df_\n",
    "    .query(\n",
    "        'pickup_longitude != 0' or \n",
    "        'pickup_latitude != 0' or \n",
    "        'dropoff_longitude != 0' or \n",
    "        'dropoff_latitude != 0'\n",
    "    )\n",
    ")"
   ]
  },
  {
   "cell_type": "markdown",
   "metadata": {},
   "source": [
    "#### Latitude and Longitude outside the USA limits"
   ]
  },
  {
   "cell_type": "markdown",
   "metadata": {},
   "source": [
    "Firstly, let us find out the mean of `latitude` and `longitude` features considering only the valid values, i.e, in which the values belong to USA territory."
   ]
  },
  {
   "cell_type": "code",
   "execution_count": 17,
   "metadata": {},
   "outputs": [],
   "source": [
    "# dictionary with the latitude and longitude values for the USA\n",
    "valid_latitude_longitude_intervals = {\n",
    "    'pickup_longitude': (-125, -67),\n",
    "    'pickup_latitude': (24, 50),\n",
    "    'dropoff_longitude': (-125, -67),\n",
    "    'dropoff_latitude': (24, 50)\n",
    "}"
   ]
  },
  {
   "cell_type": "markdown",
   "metadata": {},
   "source": [
    "Now, we will replace all values that are outside these intervals for null values:"
   ]
  },
  {
   "cell_type": "code",
   "execution_count": 18,
   "metadata": {},
   "outputs": [],
   "source": [
    "for col, (min_val, max_val) in valid_latitude_longitude_intervals.items():\n",
    "    uber_df_[col] = (\n",
    "        uber_df_[col]\n",
    "        .apply(\n",
    "            lambda x: x if min_val <= x <= max_val else np.nan\n",
    "        )\n",
    "    )"
   ]
  },
  {
   "cell_type": "code",
   "execution_count": 19,
   "metadata": {},
   "outputs": [],
   "source": [
    "# mean values for latitude and longitude columns not considering null values \n",
    "mean_value_pickup_latitude = uber_df_.pickup_latitude.mean()\n",
    "mean_value_pickup_longitude = uber_df_.pickup_longitude.mean()\n",
    "mean_value_dropoff_latitude = uber_df_.dropoff_latitude.mean()\n",
    "mean_value_dropoff_longitude = uber_df_.dropoff_longitude.mean()"
   ]
  },
  {
   "cell_type": "markdown",
   "metadata": {},
   "source": [
    "Finally, the null values will be replaced by the mean values calculated above:"
   ]
  },
  {
   "cell_type": "code",
   "execution_count": 20,
   "metadata": {},
   "outputs": [],
   "source": [
    "# replacing the null values by the mean of the column \n",
    "uber_df_.pickup_latitude = (\n",
    "    uber_df_.pickup_latitude\n",
    "    .fillna(\n",
    "        mean_value_pickup_latitude,  \n",
    "    )\n",
    ")\n",
    "\n",
    "uber_df_.pickup_longitude = (\n",
    "    uber_df_.pickup_longitude\n",
    "    .fillna(\n",
    "        mean_value_pickup_longitude\n",
    "    )\n",
    ")\n",
    "\n",
    "uber_df_.dropoff_latitude = (\n",
    "    uber_df_.dropoff_latitude\n",
    "    .fillna(\n",
    "        mean_value_dropoff_latitude\n",
    "    )\n",
    ")\n",
    "\n",
    "uber_df_.dropoff_longitude = (\n",
    "    uber_df_.dropoff_longitude\n",
    "    .fillna(\n",
    "        mean_value_dropoff_longitude\n",
    "    )\n",
    ")"
   ]
  },
  {
   "cell_type": "markdown",
   "metadata": {},
   "source": [
    "Let us analyze the histograms again to see if all we have done worked:"
   ]
  },
  {
   "cell_type": "code",
   "execution_count": 21,
   "metadata": {},
   "outputs": [
    {
     "data": {
      "image/png": "[encoded data removed]",
      "text/plain": [
       "<Figure size 640x480 with 2 Axes>"
      ]
     },
     "metadata": {},
     "output_type": "display_data"
    }
   ],
   "source": [
    "# histograms for pickup and dropoff latitude features\n",
    "n_bins = 50\n",
    "fig, axs = plt.subplots(1, 2, sharey=True, tight_layout=True)\n",
    "\n",
    "axs[0].hist(uber_df_['pickup_latitude'], \n",
    "            bins=n_bins,\n",
    "            color='darkgreen',\n",
    "            edgecolor='black')\n",
    "axs[0].set_xlim(-90, 90)\n",
    "\n",
    "axs[0].set_title('Histogram of Pickup Latitude')\n",
    "axs[0].set_xlabel('Pickup Latitude')\n",
    "axs[0].set_ylabel('Amount of Rides')\n",
    "axs[0].set_yscale('log')\n",
    "\n",
    "axs[1].hist(uber_df_['dropoff_latitude'], \n",
    "            bins=n_bins,\n",
    "            color='darkgreen',\n",
    "            edgecolor='black')\n",
    "axs[1].set_xlim(-90, 90)\n",
    "\n",
    "axs[1].set_title('Histogram of Dropoff Latitude')\n",
    "axs[1].set_xlabel('Dropoff Latitude')\n",
    "axs[1].set_ylabel('Amount of Rides')\n",
    "axs[1].set_yscale('log')"
   ]
  },
  {
   "cell_type": "code",
   "execution_count": 22,
   "metadata": {},
   "outputs": [
    {
     "data": {
      "image/png": "[encoded data removed]",
      "text/plain": [
       "<Figure size 640x480 with 2 Axes>"
      ]
     },
     "metadata": {},
     "output_type": "display_data"
    }
   ],
   "source": [
    "# histograms for pickup and dropoff longitude features\n",
    "n_bins = 20\n",
    "fig, axs = plt.subplots(1, 2, sharey=True, tight_layout=True)\n",
    "\n",
    "axs[0].hist(uber_df_['pickup_longitude'], \n",
    "            bins=n_bins,\n",
    "            color='darkgreen',\n",
    "            edgecolor='black')\n",
    "axs[0].set_xlim(-180, 180)\n",
    "\n",
    "axs[0].set_title('Histogram of Pickup Longitude')\n",
    "axs[0].set_xlabel('Pickup Longitude')\n",
    "axs[0].set_ylabel('Amount of Rides')\n",
    "axs[0].set_yscale('log')\n",
    "\n",
    "axs[1].hist(uber_df_['dropoff_longitude'], \n",
    "            bins=n_bins,\n",
    "            color='darkgreen',\n",
    "            edgecolor='black')\n",
    "axs[1].set_xlim(-180, 180)\n",
    "\n",
    "axs[1].set_title('Histogram of Dropoff Longitude')\n",
    "axs[1].set_xlabel('Dropoff Longitude')\n",
    "axs[1].set_ylabel('Amount of Rides')\n",
    "axs[1].set_yscale('log')"
   ]
  },
  {
   "cell_type": "markdown",
   "metadata": {},
   "source": [
    "Very good! Now we cleaned the data in a correct way. Let's save this cleaned dataframe to future use."
   ]
  },
  {
   "cell_type": "code",
   "execution_count": 22,
   "metadata": {},
   "outputs": [],
   "source": [
    "# saving the cleaned data\n",
    "path_cleaned_data = '../../uber-fares-prediction/data/interim/'\n",
    "uber_df_.to_csv(path_cleaned_data + 'uber_cleaned_data.csv')"
   ]
  },
  {
   "cell_type": "markdown",
   "metadata": {},
   "source": [
    "## Separating Train and Test Sets"
   ]
  },
  {
   "cell_type": "markdown",
   "metadata": {},
   "source": [
    "As in our data we do not have categorical features and we are not dealing with imbalanced problems, we can use a simple `train_test_split` to separate our data in train and test sets."
   ]
  },
  {
   "cell_type": "code",
   "execution_count": 23,
   "metadata": {},
   "outputs": [],
   "source": [
    "# creating train and test sets \n",
    "X = uber_df_.loc[:, uber_df_.columns != 'fare_amount']\n",
    "y = uber_df_['fare_amount']\n",
    "\n",
    "X_train, X_test, y_train, y_test = train_test_split(\n",
    "    X, \n",
    "    y,\n",
    "    test_size=0.3,\n",
    "    random_state=42\n",
    ")"
   ]
  },
  {
   "cell_type": "code",
   "execution_count": 24,
   "metadata": {},
   "outputs": [],
   "source": [
    "# saving y_test set\n",
    "X_train.to_csv('../../uber-fares-prediction/data/processed/uber_train_set.csv', index=False)\n",
    "X_test.to_csv('../../uber-fares-prediction/data/processed/uber_validation_set.csv', index=False)\n",
    "y_train.to_csv('../../uber-fares-prediction/data/processed/uber_validation_target.csv', index=False)\n",
    "y_test.to_csv('../../uber-fares-prediction/data/processed/uber_test_set.csv', index=False)"
   ]
  }
 ],
 "metadata": {
  "kernelspec": {
   "display_name": "machine-learning-projects",
   "language": "python",
   "name": "python3"
  },
  "language_info": {
   "codemirror_mode": {
    "name": "ipython",
    "version": 3
   },
   "file_extension": ".py",
   "mimetype": "text/x-python",
   "name": "python",
   "nbconvert_exporter": "python",
   "pygments_lexer": "ipython3",
   "version": "3.11.5"
  }
 },
 "nbformat": 4,
 "nbformat_minor": 2
}
